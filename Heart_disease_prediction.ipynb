{
 "cells": [
  {
   "cell_type": "markdown",
   "metadata": {},
   "source": [
    "Importing Dependencies"
   ]
  },
  {
   "cell_type": "code",
   "execution_count": 4,
   "metadata": {},
   "outputs": [],
   "source": [
    "import pandas as pd\n",
    "import numpy as np\n",
    "import seaborn as sns\n",
    "from matplotlib import pyplot as plt \n",
    "from sklearn.model_selection import train_test_split\n",
    "from sklearn.metrics import accuracy_score\n",
    "from sklearn.metrics import log_loss"
   ]
  },
  {
   "cell_type": "markdown",
   "metadata": {},
   "source": [
    "Loading the Dataset"
   ]
  },
  {
   "cell_type": "code",
   "execution_count": 5,
   "metadata": {},
   "outputs": [
    {
     "data": {
      "text/html": [
       "<div>\n",
       "<style scoped>\n",
       "    .dataframe tbody tr th:only-of-type {\n",
       "        vertical-align: middle;\n",
       "    }\n",
       "\n",
       "    .dataframe tbody tr th {\n",
       "        vertical-align: top;\n",
       "    }\n",
       "\n",
       "    .dataframe thead th {\n",
       "        text-align: right;\n",
       "    }\n",
       "</style>\n",
       "<table border=\"1\" class=\"dataframe\">\n",
       "  <thead>\n",
       "    <tr style=\"text-align: right;\">\n",
       "      <th></th>\n",
       "      <th>Age</th>\n",
       "      <th>Sex</th>\n",
       "      <th>ChestPainType</th>\n",
       "      <th>RestingBP</th>\n",
       "      <th>Cholesterol</th>\n",
       "      <th>FastingBS</th>\n",
       "      <th>RestingECG</th>\n",
       "      <th>MaxHR</th>\n",
       "      <th>ExerciseAngina</th>\n",
       "      <th>Oldpeak</th>\n",
       "      <th>ST_Slope</th>\n",
       "      <th>HeartDisease</th>\n",
       "    </tr>\n",
       "  </thead>\n",
       "  <tbody>\n",
       "    <tr>\n",
       "      <th>0</th>\n",
       "      <td>40</td>\n",
       "      <td>M</td>\n",
       "      <td>ATA</td>\n",
       "      <td>140</td>\n",
       "      <td>289</td>\n",
       "      <td>0</td>\n",
       "      <td>Normal</td>\n",
       "      <td>172</td>\n",
       "      <td>N</td>\n",
       "      <td>0.0</td>\n",
       "      <td>Up</td>\n",
       "      <td>0</td>\n",
       "    </tr>\n",
       "    <tr>\n",
       "      <th>1</th>\n",
       "      <td>49</td>\n",
       "      <td>F</td>\n",
       "      <td>NAP</td>\n",
       "      <td>160</td>\n",
       "      <td>180</td>\n",
       "      <td>0</td>\n",
       "      <td>Normal</td>\n",
       "      <td>156</td>\n",
       "      <td>N</td>\n",
       "      <td>1.0</td>\n",
       "      <td>Flat</td>\n",
       "      <td>1</td>\n",
       "    </tr>\n",
       "    <tr>\n",
       "      <th>2</th>\n",
       "      <td>37</td>\n",
       "      <td>M</td>\n",
       "      <td>ATA</td>\n",
       "      <td>130</td>\n",
       "      <td>283</td>\n",
       "      <td>0</td>\n",
       "      <td>ST</td>\n",
       "      <td>98</td>\n",
       "      <td>N</td>\n",
       "      <td>0.0</td>\n",
       "      <td>Up</td>\n",
       "      <td>0</td>\n",
       "    </tr>\n",
       "    <tr>\n",
       "      <th>3</th>\n",
       "      <td>48</td>\n",
       "      <td>F</td>\n",
       "      <td>ASY</td>\n",
       "      <td>138</td>\n",
       "      <td>214</td>\n",
       "      <td>0</td>\n",
       "      <td>Normal</td>\n",
       "      <td>108</td>\n",
       "      <td>Y</td>\n",
       "      <td>1.5</td>\n",
       "      <td>Flat</td>\n",
       "      <td>1</td>\n",
       "    </tr>\n",
       "    <tr>\n",
       "      <th>4</th>\n",
       "      <td>54</td>\n",
       "      <td>M</td>\n",
       "      <td>NAP</td>\n",
       "      <td>150</td>\n",
       "      <td>195</td>\n",
       "      <td>0</td>\n",
       "      <td>Normal</td>\n",
       "      <td>122</td>\n",
       "      <td>N</td>\n",
       "      <td>0.0</td>\n",
       "      <td>Up</td>\n",
       "      <td>0</td>\n",
       "    </tr>\n",
       "    <tr>\n",
       "      <th>5</th>\n",
       "      <td>39</td>\n",
       "      <td>M</td>\n",
       "      <td>NAP</td>\n",
       "      <td>120</td>\n",
       "      <td>339</td>\n",
       "      <td>0</td>\n",
       "      <td>Normal</td>\n",
       "      <td>170</td>\n",
       "      <td>N</td>\n",
       "      <td>0.0</td>\n",
       "      <td>Up</td>\n",
       "      <td>0</td>\n",
       "    </tr>\n",
       "    <tr>\n",
       "      <th>6</th>\n",
       "      <td>45</td>\n",
       "      <td>F</td>\n",
       "      <td>ATA</td>\n",
       "      <td>130</td>\n",
       "      <td>237</td>\n",
       "      <td>0</td>\n",
       "      <td>Normal</td>\n",
       "      <td>170</td>\n",
       "      <td>N</td>\n",
       "      <td>0.0</td>\n",
       "      <td>Up</td>\n",
       "      <td>0</td>\n",
       "    </tr>\n",
       "    <tr>\n",
       "      <th>7</th>\n",
       "      <td>54</td>\n",
       "      <td>M</td>\n",
       "      <td>ATA</td>\n",
       "      <td>110</td>\n",
       "      <td>208</td>\n",
       "      <td>0</td>\n",
       "      <td>Normal</td>\n",
       "      <td>142</td>\n",
       "      <td>N</td>\n",
       "      <td>0.0</td>\n",
       "      <td>Up</td>\n",
       "      <td>0</td>\n",
       "    </tr>\n",
       "    <tr>\n",
       "      <th>8</th>\n",
       "      <td>37</td>\n",
       "      <td>M</td>\n",
       "      <td>ASY</td>\n",
       "      <td>140</td>\n",
       "      <td>207</td>\n",
       "      <td>0</td>\n",
       "      <td>Normal</td>\n",
       "      <td>130</td>\n",
       "      <td>Y</td>\n",
       "      <td>1.5</td>\n",
       "      <td>Flat</td>\n",
       "      <td>1</td>\n",
       "    </tr>\n",
       "    <tr>\n",
       "      <th>9</th>\n",
       "      <td>48</td>\n",
       "      <td>F</td>\n",
       "      <td>ATA</td>\n",
       "      <td>120</td>\n",
       "      <td>284</td>\n",
       "      <td>0</td>\n",
       "      <td>Normal</td>\n",
       "      <td>120</td>\n",
       "      <td>N</td>\n",
       "      <td>0.0</td>\n",
       "      <td>Up</td>\n",
       "      <td>0</td>\n",
       "    </tr>\n",
       "  </tbody>\n",
       "</table>\n",
       "</div>"
      ],
      "text/plain": [
       "   Age Sex ChestPainType  RestingBP  Cholesterol  FastingBS RestingECG  MaxHR  \\\n",
       "0   40   M           ATA        140          289          0     Normal    172   \n",
       "1   49   F           NAP        160          180          0     Normal    156   \n",
       "2   37   M           ATA        130          283          0         ST     98   \n",
       "3   48   F           ASY        138          214          0     Normal    108   \n",
       "4   54   M           NAP        150          195          0     Normal    122   \n",
       "5   39   M           NAP        120          339          0     Normal    170   \n",
       "6   45   F           ATA        130          237          0     Normal    170   \n",
       "7   54   M           ATA        110          208          0     Normal    142   \n",
       "8   37   M           ASY        140          207          0     Normal    130   \n",
       "9   48   F           ATA        120          284          0     Normal    120   \n",
       "\n",
       "  ExerciseAngina  Oldpeak ST_Slope  HeartDisease  \n",
       "0              N      0.0       Up             0  \n",
       "1              N      1.0     Flat             1  \n",
       "2              N      0.0       Up             0  \n",
       "3              Y      1.5     Flat             1  \n",
       "4              N      0.0       Up             0  \n",
       "5              N      0.0       Up             0  \n",
       "6              N      0.0       Up             0  \n",
       "7              N      0.0       Up             0  \n",
       "8              Y      1.5     Flat             1  \n",
       "9              N      0.0       Up             0  "
      ]
     },
     "execution_count": 5,
     "metadata": {},
     "output_type": "execute_result"
    }
   ],
   "source": [
    "df=pd.read_csv(\"heart.csv\")\n",
    "df.head(10)"
   ]
  },
  {
   "cell_type": "code",
   "execution_count": 6,
   "metadata": {},
   "outputs": [
    {
     "data": {
      "text/plain": [
       "(918, 12)"
      ]
     },
     "execution_count": 6,
     "metadata": {},
     "output_type": "execute_result"
    }
   ],
   "source": [
    "df.shape"
   ]
  },
  {
   "cell_type": "code",
   "execution_count": 7,
   "metadata": {},
   "outputs": [
    {
     "name": "stdout",
     "output_type": "stream",
     "text": [
      "<class 'pandas.core.frame.DataFrame'>\n",
      "RangeIndex: 918 entries, 0 to 917\n",
      "Data columns (total 12 columns):\n",
      " #   Column          Non-Null Count  Dtype  \n",
      "---  ------          --------------  -----  \n",
      " 0   Age             918 non-null    int64  \n",
      " 1   Sex             918 non-null    object \n",
      " 2   ChestPainType   918 non-null    object \n",
      " 3   RestingBP       918 non-null    int64  \n",
      " 4   Cholesterol     918 non-null    int64  \n",
      " 5   FastingBS       918 non-null    int64  \n",
      " 6   RestingECG      918 non-null    object \n",
      " 7   MaxHR           918 non-null    int64  \n",
      " 8   ExerciseAngina  918 non-null    object \n",
      " 9   Oldpeak         918 non-null    float64\n",
      " 10  ST_Slope        918 non-null    object \n",
      " 11  HeartDisease    918 non-null    int64  \n",
      "dtypes: float64(1), int64(6), object(5)\n",
      "memory usage: 86.2+ KB\n"
     ]
    }
   ],
   "source": [
    "df.info()"
   ]
  },
  {
   "cell_type": "code",
   "execution_count": 8,
   "metadata": {},
   "outputs": [
    {
     "data": {
      "text/plain": [
       "Index(['Age', 'Sex', 'ChestPainType', 'RestingBP', 'Cholesterol', 'FastingBS',\n",
       "       'RestingECG', 'MaxHR', 'ExerciseAngina', 'Oldpeak', 'ST_Slope',\n",
       "       'HeartDisease'],\n",
       "      dtype='object')"
      ]
     },
     "execution_count": 8,
     "metadata": {},
     "output_type": "execute_result"
    }
   ],
   "source": [
    "df.columns"
   ]
  },
  {
   "cell_type": "code",
   "execution_count": 9,
   "metadata": {},
   "outputs": [
    {
     "data": {
      "text/html": [
       "<div>\n",
       "<style scoped>\n",
       "    .dataframe tbody tr th:only-of-type {\n",
       "        vertical-align: middle;\n",
       "    }\n",
       "\n",
       "    .dataframe tbody tr th {\n",
       "        vertical-align: top;\n",
       "    }\n",
       "\n",
       "    .dataframe thead th {\n",
       "        text-align: right;\n",
       "    }\n",
       "</style>\n",
       "<table border=\"1\" class=\"dataframe\">\n",
       "  <thead>\n",
       "    <tr style=\"text-align: right;\">\n",
       "      <th></th>\n",
       "      <th>count</th>\n",
       "    </tr>\n",
       "    <tr>\n",
       "      <th>HeartDisease</th>\n",
       "      <th></th>\n",
       "    </tr>\n",
       "  </thead>\n",
       "  <tbody>\n",
       "    <tr>\n",
       "      <th>1</th>\n",
       "      <td>508</td>\n",
       "    </tr>\n",
       "    <tr>\n",
       "      <th>0</th>\n",
       "      <td>410</td>\n",
       "    </tr>\n",
       "  </tbody>\n",
       "</table>\n",
       "</div>"
      ],
      "text/plain": [
       "              count\n",
       "HeartDisease       \n",
       "1               508\n",
       "0               410"
      ]
     },
     "execution_count": 9,
     "metadata": {},
     "output_type": "execute_result"
    }
   ],
   "source": [
    "#checking the target column\n",
    "pd.DataFrame(df[\"HeartDisease\"].value_counts())\n",
    "\n",
    "#1---> Cardiovascular Disease\n",
    "#0---> Normal Heart Condition"
   ]
  },
  {
   "cell_type": "markdown",
   "metadata": {},
   "source": [
    "Checking for missing values in the Dataset"
   ]
  },
  {
   "cell_type": "code",
   "execution_count": 10,
   "metadata": {},
   "outputs": [
    {
     "data": {
      "text/plain": [
       "Age               0\n",
       "Sex               0\n",
       "ChestPainType     0\n",
       "RestingBP         0\n",
       "Cholesterol       0\n",
       "FastingBS         0\n",
       "RestingECG        0\n",
       "MaxHR             0\n",
       "ExerciseAngina    0\n",
       "Oldpeak           0\n",
       "ST_Slope          0\n",
       "HeartDisease      0\n",
       "dtype: int64"
      ]
     },
     "execution_count": 10,
     "metadata": {},
     "output_type": "execute_result"
    }
   ],
   "source": [
    "df.isnull().sum()"
   ]
  },
  {
   "cell_type": "markdown",
   "metadata": {},
   "source": [
    "Statistical information about the data"
   ]
  },
  {
   "cell_type": "code",
   "execution_count": 11,
   "metadata": {},
   "outputs": [
    {
     "data": {
      "text/html": [
       "<div>\n",
       "<style scoped>\n",
       "    .dataframe tbody tr th:only-of-type {\n",
       "        vertical-align: middle;\n",
       "    }\n",
       "\n",
       "    .dataframe tbody tr th {\n",
       "        vertical-align: top;\n",
       "    }\n",
       "\n",
       "    .dataframe thead th {\n",
       "        text-align: right;\n",
       "    }\n",
       "</style>\n",
       "<table border=\"1\" class=\"dataframe\">\n",
       "  <thead>\n",
       "    <tr style=\"text-align: right;\">\n",
       "      <th></th>\n",
       "      <th>Age</th>\n",
       "      <th>RestingBP</th>\n",
       "      <th>Cholesterol</th>\n",
       "      <th>FastingBS</th>\n",
       "      <th>MaxHR</th>\n",
       "      <th>Oldpeak</th>\n",
       "      <th>HeartDisease</th>\n",
       "    </tr>\n",
       "  </thead>\n",
       "  <tbody>\n",
       "    <tr>\n",
       "      <th>count</th>\n",
       "      <td>918.000000</td>\n",
       "      <td>918.000000</td>\n",
       "      <td>918.000000</td>\n",
       "      <td>918.000000</td>\n",
       "      <td>918.000000</td>\n",
       "      <td>918.000000</td>\n",
       "      <td>918.000000</td>\n",
       "    </tr>\n",
       "    <tr>\n",
       "      <th>mean</th>\n",
       "      <td>53.510893</td>\n",
       "      <td>132.396514</td>\n",
       "      <td>198.799564</td>\n",
       "      <td>0.233115</td>\n",
       "      <td>136.809368</td>\n",
       "      <td>0.887364</td>\n",
       "      <td>0.553377</td>\n",
       "    </tr>\n",
       "    <tr>\n",
       "      <th>std</th>\n",
       "      <td>9.432617</td>\n",
       "      <td>18.514154</td>\n",
       "      <td>109.384145</td>\n",
       "      <td>0.423046</td>\n",
       "      <td>25.460334</td>\n",
       "      <td>1.066570</td>\n",
       "      <td>0.497414</td>\n",
       "    </tr>\n",
       "    <tr>\n",
       "      <th>min</th>\n",
       "      <td>28.000000</td>\n",
       "      <td>0.000000</td>\n",
       "      <td>0.000000</td>\n",
       "      <td>0.000000</td>\n",
       "      <td>60.000000</td>\n",
       "      <td>-2.600000</td>\n",
       "      <td>0.000000</td>\n",
       "    </tr>\n",
       "    <tr>\n",
       "      <th>25%</th>\n",
       "      <td>47.000000</td>\n",
       "      <td>120.000000</td>\n",
       "      <td>173.250000</td>\n",
       "      <td>0.000000</td>\n",
       "      <td>120.000000</td>\n",
       "      <td>0.000000</td>\n",
       "      <td>0.000000</td>\n",
       "    </tr>\n",
       "    <tr>\n",
       "      <th>50%</th>\n",
       "      <td>54.000000</td>\n",
       "      <td>130.000000</td>\n",
       "      <td>223.000000</td>\n",
       "      <td>0.000000</td>\n",
       "      <td>138.000000</td>\n",
       "      <td>0.600000</td>\n",
       "      <td>1.000000</td>\n",
       "    </tr>\n",
       "    <tr>\n",
       "      <th>75%</th>\n",
       "      <td>60.000000</td>\n",
       "      <td>140.000000</td>\n",
       "      <td>267.000000</td>\n",
       "      <td>0.000000</td>\n",
       "      <td>156.000000</td>\n",
       "      <td>1.500000</td>\n",
       "      <td>1.000000</td>\n",
       "    </tr>\n",
       "    <tr>\n",
       "      <th>max</th>\n",
       "      <td>77.000000</td>\n",
       "      <td>200.000000</td>\n",
       "      <td>603.000000</td>\n",
       "      <td>1.000000</td>\n",
       "      <td>202.000000</td>\n",
       "      <td>6.200000</td>\n",
       "      <td>1.000000</td>\n",
       "    </tr>\n",
       "  </tbody>\n",
       "</table>\n",
       "</div>"
      ],
      "text/plain": [
       "              Age   RestingBP  Cholesterol   FastingBS       MaxHR  \\\n",
       "count  918.000000  918.000000   918.000000  918.000000  918.000000   \n",
       "mean    53.510893  132.396514   198.799564    0.233115  136.809368   \n",
       "std      9.432617   18.514154   109.384145    0.423046   25.460334   \n",
       "min     28.000000    0.000000     0.000000    0.000000   60.000000   \n",
       "25%     47.000000  120.000000   173.250000    0.000000  120.000000   \n",
       "50%     54.000000  130.000000   223.000000    0.000000  138.000000   \n",
       "75%     60.000000  140.000000   267.000000    0.000000  156.000000   \n",
       "max     77.000000  200.000000   603.000000    1.000000  202.000000   \n",
       "\n",
       "          Oldpeak  HeartDisease  \n",
       "count  918.000000    918.000000  \n",
       "mean     0.887364      0.553377  \n",
       "std      1.066570      0.497414  \n",
       "min     -2.600000      0.000000  \n",
       "25%      0.000000      0.000000  \n",
       "50%      0.600000      1.000000  \n",
       "75%      1.500000      1.000000  \n",
       "max      6.200000      1.000000  "
      ]
     },
     "execution_count": 11,
     "metadata": {},
     "output_type": "execute_result"
    }
   ],
   "source": [
    "df.describe()"
   ]
  },
  {
   "cell_type": "markdown",
   "metadata": {},
   "source": [
    "Data Preprocessing"
   ]
  },
  {
   "cell_type": "code",
   "execution_count": 12,
   "metadata": {},
   "outputs": [
    {
     "data": {
      "text/plain": [
       "ChestPainType\n",
       "ASY    496\n",
       "NAP    203\n",
       "ATA    173\n",
       "TA      46\n",
       "Name: count, dtype: int64"
      ]
     },
     "execution_count": 12,
     "metadata": {},
     "output_type": "execute_result"
    }
   ],
   "source": [
    "df[\"ChestPainType\"].value_counts()"
   ]
  },
  {
   "cell_type": "code",
   "execution_count": 13,
   "metadata": {},
   "outputs": [
    {
     "data": {
      "text/plain": [
       "RestingECG\n",
       "Normal    552\n",
       "LVH       188\n",
       "ST        178\n",
       "Name: count, dtype: int64"
      ]
     },
     "execution_count": 13,
     "metadata": {},
     "output_type": "execute_result"
    }
   ],
   "source": [
    "df[\"RestingECG\"].value_counts()"
   ]
  },
  {
   "cell_type": "code",
   "execution_count": 14,
   "metadata": {},
   "outputs": [
    {
     "data": {
      "text/plain": [
       "ST_Slope\n",
       "Flat    460\n",
       "Up      395\n",
       "Down     63\n",
       "Name: count, dtype: int64"
      ]
     },
     "execution_count": 14,
     "metadata": {},
     "output_type": "execute_result"
    }
   ],
   "source": [
    "df[\"ST_Slope\"].value_counts()"
   ]
  },
  {
   "cell_type": "code",
   "execution_count": 15,
   "metadata": {},
   "outputs": [],
   "source": [
    "from sklearn.preprocessing import LabelEncoder\n",
    "\n",
    "le=LabelEncoder()\n",
    "df['Sex']=le.fit_transform(df['Sex'])\n",
    "df['ExerciseAngina']=le.fit_transform(df['ExerciseAngina'])\n",
    "df['ChestPainType']=le.fit_transform(df['ChestPainType'])\n",
    "df['RestingECG']=le.fit_transform(df['RestingECG'])\n",
    "df['ST_Slope']=le.fit_transform(df['ST_Slope'])\n"
   ]
  },
  {
   "cell_type": "markdown",
   "metadata": {},
   "source": [
    "Data Visualization"
   ]
  },
  {
   "cell_type": "code",
   "execution_count": 16,
   "metadata": {},
   "outputs": [
    {
     "name": "stderr",
     "output_type": "stream",
     "text": [
      "C:\\Users\\SUBHASISH NEOGI\\AppData\\Local\\Temp\\ipykernel_1888\\2235430192.py:3: UserWarning: \n",
      "\n",
      "`distplot` is a deprecated function and will be removed in seaborn v0.14.0.\n",
      "\n",
      "Please adapt your code to use either `displot` (a figure-level function with\n",
      "similar flexibility) or `histplot` (an axes-level function for histograms).\n",
      "\n",
      "For a guide to updating your code to use the new functions, please see\n",
      "https://gist.github.com/mwaskom/de44147ed2974457ad6372750bbe5751\n",
      "\n",
      "  sns.distplot(df['HeartDisease'], bins=30)\n"
     ]
    },
    {
     "data": {
      "image/png": "[encoded data removed]",
      "text/plain": [
       "<Figure size 600x500 with 1 Axes>"
      ]
     },
     "metadata": {},
     "output_type": "display_data"
    }
   ],
   "source": [
    "plt.figure(figsize=(6,5))\n",
    "\n",
    "sns.distplot(df['HeartDisease'], bins=30)\n",
    "sns.rugplot(df['HeartDisease'],height=0.05)\n",
    "\n",
    "HeartDisease_mean = round(np.mean(df['HeartDisease']),2)\n",
    "HeartDisease_median = round(np.median(df['HeartDisease']),2)\n",
    "HeartDisease_std = round(np.std(df['HeartDisease']),2)\n",
    "\n",
    "\n",
    "plt.axvline(x=np.mean(df['HeartDisease']), linestyle='--', color='r', label=f'mean: {HeartDisease_mean}')\n",
    "plt.axvline(x=np.median(df['HeartDisease']), linestyle='--', color='c', label=f'median: {HeartDisease_median}')\n",
    "plt.axvline(x=np.std(df['HeartDisease']), linestyle='--', color='purple', label=f'std: {HeartDisease_std}')\n",
    "\n",
    "plt.title(\"Distribution of Target Variable- HeartDisease\")\n",
    "plt.legend()\n",
    "plt.show()"
   ]
  },
  {
   "cell_type": "code",
   "execution_count": 17,
   "metadata": {},
   "outputs": [
    {
     "data": {
      "image/png": "[encoded data removed]",
      "text/plain": [
       "<Figure size 900x700 with 2 Axes>"
      ]
     },
     "metadata": {},
     "output_type": "display_data"
    }
   ],
   "source": [
    "plt.figure(figsize=(9,7))\n",
    "\n",
    "Corr_mat = df.corr()\n",
    "mask=np.triu(np.ones_like(Corr_mat))\n",
    "sns.heatmap(Corr_mat, annot=True, cmap='coolwarm',mask=mask)\n",
    "\n",
    "plt.title(\"Correlation between Numerical Columns\")\n",
    "plt.tight_layout\n",
    "plt.show()"
   ]
  },
  {
   "cell_type": "markdown",
   "metadata": {},
   "source": [
    "Splitting the features and target from the dataset"
   ]
  },
  {
   "cell_type": "code",
   "execution_count": 18,
   "metadata": {},
   "outputs": [],
   "source": [
    "X=df.drop(columns='HeartDisease',axis=1)\n",
    "y=df['HeartDisease']"
   ]
  },
  {
   "cell_type": "code",
   "execution_count": 19,
   "metadata": {},
   "outputs": [
    {
     "data": {
      "text/html": [
       "<div>\n",
       "<style scoped>\n",
       "    .dataframe tbody tr th:only-of-type {\n",
       "        vertical-align: middle;\n",
       "    }\n",
       "\n",
       "    .dataframe tbody tr th {\n",
       "        vertical-align: top;\n",
       "    }\n",
       "\n",
       "    .dataframe thead th {\n",
       "        text-align: right;\n",
       "    }\n",
       "</style>\n",
       "<table border=\"1\" class=\"dataframe\">\n",
       "  <thead>\n",
       "    <tr style=\"text-align: right;\">\n",
       "      <th></th>\n",
       "      <th>Age</th>\n",
       "      <th>Sex</th>\n",
       "      <th>ChestPainType</th>\n",
       "      <th>RestingBP</th>\n",
       "      <th>Cholesterol</th>\n",
       "      <th>FastingBS</th>\n",
       "      <th>RestingECG</th>\n",
       "      <th>MaxHR</th>\n",
       "      <th>ExerciseAngina</th>\n",
       "      <th>Oldpeak</th>\n",
       "      <th>ST_Slope</th>\n",
       "    </tr>\n",
       "  </thead>\n",
       "  <tbody>\n",
       "    <tr>\n",
       "      <th>0</th>\n",
       "      <td>40</td>\n",
       "      <td>1</td>\n",
       "      <td>1</td>\n",
       "      <td>140</td>\n",
       "      <td>289</td>\n",
       "      <td>0</td>\n",
       "      <td>1</td>\n",
       "      <td>172</td>\n",
       "      <td>0</td>\n",
       "      <td>0.0</td>\n",
       "      <td>2</td>\n",
       "    </tr>\n",
       "    <tr>\n",
       "      <th>1</th>\n",
       "      <td>49</td>\n",
       "      <td>0</td>\n",
       "      <td>2</td>\n",
       "      <td>160</td>\n",
       "      <td>180</td>\n",
       "      <td>0</td>\n",
       "      <td>1</td>\n",
       "      <td>156</td>\n",
       "      <td>0</td>\n",
       "      <td>1.0</td>\n",
       "      <td>1</td>\n",
       "    </tr>\n",
       "    <tr>\n",
       "      <th>2</th>\n",
       "      <td>37</td>\n",
       "      <td>1</td>\n",
       "      <td>1</td>\n",
       "      <td>130</td>\n",
       "      <td>283</td>\n",
       "      <td>0</td>\n",
       "      <td>2</td>\n",
       "      <td>98</td>\n",
       "      <td>0</td>\n",
       "      <td>0.0</td>\n",
       "      <td>2</td>\n",
       "    </tr>\n",
       "    <tr>\n",
       "      <th>3</th>\n",
       "      <td>48</td>\n",
       "      <td>0</td>\n",
       "      <td>0</td>\n",
       "      <td>138</td>\n",
       "      <td>214</td>\n",
       "      <td>0</td>\n",
       "      <td>1</td>\n",
       "      <td>108</td>\n",
       "      <td>1</td>\n",
       "      <td>1.5</td>\n",
       "      <td>1</td>\n",
       "    </tr>\n",
       "    <tr>\n",
       "      <th>4</th>\n",
       "      <td>54</td>\n",
       "      <td>1</td>\n",
       "      <td>2</td>\n",
       "      <td>150</td>\n",
       "      <td>195</td>\n",
       "      <td>0</td>\n",
       "      <td>1</td>\n",
       "      <td>122</td>\n",
       "      <td>0</td>\n",
       "      <td>0.0</td>\n",
       "      <td>2</td>\n",
       "    </tr>\n",
       "  </tbody>\n",
       "</table>\n",
       "</div>"
      ],
      "text/plain": [
       "   Age  Sex  ChestPainType  RestingBP  Cholesterol  FastingBS  RestingECG  \\\n",
       "0   40    1              1        140          289          0           1   \n",
       "1   49    0              2        160          180          0           1   \n",
       "2   37    1              1        130          283          0           2   \n",
       "3   48    0              0        138          214          0           1   \n",
       "4   54    1              2        150          195          0           1   \n",
       "\n",
       "   MaxHR  ExerciseAngina  Oldpeak  ST_Slope  \n",
       "0    172               0      0.0         2  \n",
       "1    156               0      1.0         1  \n",
       "2     98               0      0.0         2  \n",
       "3    108               1      1.5         1  \n",
       "4    122               0      0.0         2  "
      ]
     },
     "execution_count": 19,
     "metadata": {},
     "output_type": "execute_result"
    }
   ],
   "source": [
    "X.head()"
   ]
  },
  {
   "cell_type": "code",
   "execution_count": 20,
   "metadata": {},
   "outputs": [
    {
     "data": {
      "text/html": [
       "<div>\n",
       "<style scoped>\n",
       "    .dataframe tbody tr th:only-of-type {\n",
       "        vertical-align: middle;\n",
       "    }\n",
       "\n",
       "    .dataframe tbody tr th {\n",
       "        vertical-align: top;\n",
       "    }\n",
       "\n",
       "    .dataframe thead th {\n",
       "        text-align: right;\n",
       "    }\n",
       "</style>\n",
       "<table border=\"1\" class=\"dataframe\">\n",
       "  <thead>\n",
       "    <tr style=\"text-align: right;\">\n",
       "      <th></th>\n",
       "      <th>HeartDisease</th>\n",
       "    </tr>\n",
       "  </thead>\n",
       "  <tbody>\n",
       "    <tr>\n",
       "      <th>0</th>\n",
       "      <td>0</td>\n",
       "    </tr>\n",
       "    <tr>\n",
       "      <th>1</th>\n",
       "      <td>1</td>\n",
       "    </tr>\n",
       "    <tr>\n",
       "      <th>2</th>\n",
       "      <td>0</td>\n",
       "    </tr>\n",
       "    <tr>\n",
       "      <th>3</th>\n",
       "      <td>1</td>\n",
       "    </tr>\n",
       "    <tr>\n",
       "      <th>4</th>\n",
       "      <td>0</td>\n",
       "    </tr>\n",
       "  </tbody>\n",
       "</table>\n",
       "</div>"
      ],
      "text/plain": [
       "   HeartDisease\n",
       "0             0\n",
       "1             1\n",
       "2             0\n",
       "3             1\n",
       "4             0"
      ]
     },
     "execution_count": 20,
     "metadata": {},
     "output_type": "execute_result"
    }
   ],
   "source": [
    "pd.DataFrame(y.head())"
   ]
  },
  {
   "cell_type": "markdown",
   "metadata": {},
   "source": [
    "Splitting the dataset into Training data and Test data"
   ]
  },
  {
   "cell_type": "code",
   "execution_count": 21,
   "metadata": {},
   "outputs": [],
   "source": [
    "X_train,X_test,y_train,y_test=train_test_split(X,y,test_size=0.15,stratify=y,random_state=10)"
   ]
  },
  {
   "cell_type": "code",
   "execution_count": 22,
   "metadata": {},
   "outputs": [
    {
     "name": "stdout",
     "output_type": "stream",
     "text": [
      "(780, 11) (138, 11) (780,) (138,)\n"
     ]
    }
   ],
   "source": [
    "print(X_train.shape,X_test.shape,y_train.shape,y_test.shape)"
   ]
  },
  {
   "cell_type": "markdown",
   "metadata": {},
   "source": [
    "Logistic Regression Model"
   ]
  },
  {
   "cell_type": "code",
   "execution_count": 23,
   "metadata": {},
   "outputs": [],
   "source": [
    "from sklearn.linear_model import LogisticRegression"
   ]
  },
  {
   "cell_type": "code",
   "execution_count": 24,
   "metadata": {},
   "outputs": [
    {
     "name": "stderr",
     "output_type": "stream",
     "text": [
      "c:\\Users\\SUBHASISH NEOGI\\anaconda3\\Lib\\site-packages\\sklearn\\model_selection\\_validation.py:425: FitFailedWarning: \n",
      "80 fits failed out of a total of 240.\n",
      "The score on these train-test partitions for these parameters will be set to nan.\n",
      "If these failures are not expected, you can try to debug them by setting error_score='raise'.\n",
      "\n",
      "Below are more details about the failures:\n",
      "--------------------------------------------------------------------------------\n",
      "40 fits failed with the following error:\n",
      "Traceback (most recent call last):\n",
      "  File \"c:\\Users\\SUBHASISH NEOGI\\anaconda3\\Lib\\site-packages\\sklearn\\model_selection\\_validation.py\", line 732, in _fit_and_score\n",
      "    estimator.fit(X_train, y_train, **fit_params)\n",
      "  File \"c:\\Users\\SUBHASISH NEOGI\\anaconda3\\Lib\\site-packages\\sklearn\\base.py\", line 1151, in wrapper\n",
      "    return fit_method(estimator, *args, **kwargs)\n",
      "           ^^^^^^^^^^^^^^^^^^^^^^^^^^^^^^^^^^^^^^\n",
      "  File \"c:\\Users\\SUBHASISH NEOGI\\anaconda3\\Lib\\site-packages\\sklearn\\linear_model\\_logistic.py\", line 1227, in fit\n",
      "    self.coef_, self.intercept_, self.n_iter_ = _fit_liblinear(\n",
      "                                                ^^^^^^^^^^^^^^^\n",
      "  File \"c:\\Users\\SUBHASISH NEOGI\\anaconda3\\Lib\\site-packages\\sklearn\\svm\\_base.py\", line 1221, in _fit_liblinear\n",
      "    solver_type = _get_liblinear_solver_type(multi_class, penalty, loss, dual)\n",
      "                  ^^^^^^^^^^^^^^^^^^^^^^^^^^^^^^^^^^^^^^^^^^^^^^^^^^^^^^^^^^^^\n",
      "  File \"c:\\Users\\SUBHASISH NEOGI\\anaconda3\\Lib\\site-packages\\sklearn\\svm\\_base.py\", line 1060, in _get_liblinear_solver_type\n",
      "    raise ValueError(\n",
      "ValueError: Unsupported set of arguments: The combination of penalty='None' and loss='logistic_regression' is not supported, Parameters: penalty=None, loss='logistic_regression', dual=False\n",
      "\n",
      "--------------------------------------------------------------------------------\n",
      "40 fits failed with the following error:\n",
      "Traceback (most recent call last):\n",
      "  File \"c:\\Users\\SUBHASISH NEOGI\\anaconda3\\Lib\\site-packages\\sklearn\\model_selection\\_validation.py\", line 732, in _fit_and_score\n",
      "    estimator.fit(X_train, y_train, **fit_params)\n",
      "  File \"c:\\Users\\SUBHASISH NEOGI\\anaconda3\\Lib\\site-packages\\sklearn\\base.py\", line 1151, in wrapper\n",
      "    return fit_method(estimator, *args, **kwargs)\n",
      "           ^^^^^^^^^^^^^^^^^^^^^^^^^^^^^^^^^^^^^^\n",
      "  File \"c:\\Users\\SUBHASISH NEOGI\\anaconda3\\Lib\\site-packages\\sklearn\\linear_model\\_logistic.py\", line 1168, in fit\n",
      "    solver = _check_solver(self.solver, self.penalty, self.dual)\n",
      "             ^^^^^^^^^^^^^^^^^^^^^^^^^^^^^^^^^^^^^^^^^^^^^^^^^^^\n",
      "  File \"c:\\Users\\SUBHASISH NEOGI\\anaconda3\\Lib\\site-packages\\sklearn\\linear_model\\_logistic.py\", line 56, in _check_solver\n",
      "    raise ValueError(\n",
      "ValueError: Solver newton-cholesky supports only 'l2' or 'none' penalties, got l1 penalty.\n",
      "\n",
      "  warnings.warn(some_fits_failed_message, FitFailedWarning)\n",
      "c:\\Users\\SUBHASISH NEOGI\\anaconda3\\Lib\\site-packages\\sklearn\\model_selection\\_search.py:976: UserWarning: One or more of the test scores are non-finite: [0.83076923        nan        nan 0.82948718 0.82948718 0.82948718\n",
      " 0.83076923        nan        nan 0.82564103 0.83076923 0.82820513\n",
      " 0.83076923        nan        nan 0.82692308 0.83205128 0.82948718\n",
      " 0.83076923        nan        nan 0.83205128 0.83076923 0.83205128]\n",
      "  warnings.warn(\n"
     ]
    },
    {
     "data": {
      "text/plain": [
       "{'mean_fit_time': array([0.03923914, 0.02033622, 0.00286384, 0.03882942, 0.02607753,\n",
       "        0.00937469, 0.05596423, 0.02096903, 0.        , 0.05021141,\n",
       "        0.04558148, 0.04320045, 0.02040524, 0.02990613, 0.0110255 ,\n",
       "        0.03733196, 0.01101949, 0.02821777, 0.02356699, 0.01567051,\n",
       "        0.00156221, 0.0486541 , 0.02724383, 0.01780875]),\n",
       " 'std_fit_time': array([0.02357344, 0.04090528, 0.00575711, 0.04002357, 0.03860678,\n",
       "        0.0076544 , 0.04852875, 0.03056327, 0.        , 0.04313158,\n",
       "        0.0408749 , 0.03941481, 0.01993969, 0.04641062, 0.02800418,\n",
       "        0.03326909, 0.00627731, 0.02506991, 0.03237326, 0.0237274 ,\n",
       "        0.00468664, 0.04065784, 0.04248836, 0.02127038]),\n",
       " 'mean_score_time': array([0.00382931, 0.        , 0.        , 0.01758478, 0.02504582,\n",
       "        0.02129829, 0.00679247, 0.        , 0.        , 0.01566918,\n",
       "        0.        , 0.01883626, 0.00975864, 0.        , 0.        ,\n",
       "        0.02040031, 0.01188304, 0.0015626 , 0.02508965, 0.        ,\n",
       "        0.        , 0.01103082, 0.00845406, 0.00468912]),\n",
       " 'std_score_time': array([0.00625697, 0.        , 0.        , 0.04160699, 0.03848144,\n",
       "        0.03327234, 0.0070202 , 0.        , 0.        , 0.02328904,\n",
       "        0.        , 0.0303822 , 0.02828635, 0.        , 0.        ,\n",
       "        0.03372061, 0.02790114, 0.00468779, 0.03920524, 0.        ,\n",
       "        0.        , 0.02812919, 0.00710813, 0.00716275]),\n",
       " 'param_C': masked_array(data=[0.5, 0.5, 0.5, 0.5, 0.5, 0.5, 1, 1, 1, 1, 1, 1, 2, 2,\n",
       "                    2, 2, 2, 2, 5, 5, 5, 5, 5, 5],\n",
       "              mask=[False, False, False, False, False, False, False, False,\n",
       "                    False, False, False, False, False, False, False, False,\n",
       "                    False, False, False, False, False, False, False, False],\n",
       "        fill_value='?',\n",
       "             dtype=object),\n",
       " 'param_class_weight': masked_array(data=['balanced', 'balanced', 'balanced', 'balanced',\n",
       "                    'balanced', 'balanced', 'balanced', 'balanced',\n",
       "                    'balanced', 'balanced', 'balanced', 'balanced',\n",
       "                    'balanced', 'balanced', 'balanced', 'balanced',\n",
       "                    'balanced', 'balanced', 'balanced', 'balanced',\n",
       "                    'balanced', 'balanced', 'balanced', 'balanced'],\n",
       "              mask=[False, False, False, False, False, False, False, False,\n",
       "                    False, False, False, False, False, False, False, False,\n",
       "                    False, False, False, False, False, False, False, False],\n",
       "        fill_value='?',\n",
       "             dtype=object),\n",
       " 'param_penalty': masked_array(data=[None, None, 'l1', 'l1', 'l2', 'l2', None, None, 'l1',\n",
       "                    'l1', 'l2', 'l2', None, None, 'l1', 'l1', 'l2', 'l2',\n",
       "                    None, None, 'l1', 'l1', 'l2', 'l2'],\n",
       "              mask=[False, False, False, False, False, False, False, False,\n",
       "                    False, False, False, False, False, False, False, False,\n",
       "                    False, False, False, False, False, False, False, False],\n",
       "        fill_value='?',\n",
       "             dtype=object),\n",
       " 'param_solver': masked_array(data=['newton-cholesky', 'liblinear', 'newton-cholesky',\n",
       "                    'liblinear', 'newton-cholesky', 'liblinear',\n",
       "                    'newton-cholesky', 'liblinear', 'newton-cholesky',\n",
       "                    'liblinear', 'newton-cholesky', 'liblinear',\n",
       "                    'newton-cholesky', 'liblinear', 'newton-cholesky',\n",
       "                    'liblinear', 'newton-cholesky', 'liblinear',\n",
       "                    'newton-cholesky', 'liblinear', 'newton-cholesky',\n",
       "                    'liblinear', 'newton-cholesky', 'liblinear'],\n",
       "              mask=[False, False, False, False, False, False, False, False,\n",
       "                    False, False, False, False, False, False, False, False,\n",
       "                    False, False, False, False, False, False, False, False],\n",
       "        fill_value='?',\n",
       "             dtype=object),\n",
       " 'params': [{'C': 0.5,\n",
       "   'class_weight': 'balanced',\n",
       "   'penalty': None,\n",
       "   'solver': 'newton-cholesky'},\n",
       "  {'C': 0.5,\n",
       "   'class_weight': 'balanced',\n",
       "   'penalty': None,\n",
       "   'solver': 'liblinear'},\n",
       "  {'C': 0.5,\n",
       "   'class_weight': 'balanced',\n",
       "   'penalty': 'l1',\n",
       "   'solver': 'newton-cholesky'},\n",
       "  {'C': 0.5,\n",
       "   'class_weight': 'balanced',\n",
       "   'penalty': 'l1',\n",
       "   'solver': 'liblinear'},\n",
       "  {'C': 0.5,\n",
       "   'class_weight': 'balanced',\n",
       "   'penalty': 'l2',\n",
       "   'solver': 'newton-cholesky'},\n",
       "  {'C': 0.5,\n",
       "   'class_weight': 'balanced',\n",
       "   'penalty': 'l2',\n",
       "   'solver': 'liblinear'},\n",
       "  {'C': 1,\n",
       "   'class_weight': 'balanced',\n",
       "   'penalty': None,\n",
       "   'solver': 'newton-cholesky'},\n",
       "  {'C': 1, 'class_weight': 'balanced', 'penalty': None, 'solver': 'liblinear'},\n",
       "  {'C': 1,\n",
       "   'class_weight': 'balanced',\n",
       "   'penalty': 'l1',\n",
       "   'solver': 'newton-cholesky'},\n",
       "  {'C': 1, 'class_weight': 'balanced', 'penalty': 'l1', 'solver': 'liblinear'},\n",
       "  {'C': 1,\n",
       "   'class_weight': 'balanced',\n",
       "   'penalty': 'l2',\n",
       "   'solver': 'newton-cholesky'},\n",
       "  {'C': 1, 'class_weight': 'balanced', 'penalty': 'l2', 'solver': 'liblinear'},\n",
       "  {'C': 2,\n",
       "   'class_weight': 'balanced',\n",
       "   'penalty': None,\n",
       "   'solver': 'newton-cholesky'},\n",
       "  {'C': 2, 'class_weight': 'balanced', 'penalty': None, 'solver': 'liblinear'},\n",
       "  {'C': 2,\n",
       "   'class_weight': 'balanced',\n",
       "   'penalty': 'l1',\n",
       "   'solver': 'newton-cholesky'},\n",
       "  {'C': 2, 'class_weight': 'balanced', 'penalty': 'l1', 'solver': 'liblinear'},\n",
       "  {'C': 2,\n",
       "   'class_weight': 'balanced',\n",
       "   'penalty': 'l2',\n",
       "   'solver': 'newton-cholesky'},\n",
       "  {'C': 2, 'class_weight': 'balanced', 'penalty': 'l2', 'solver': 'liblinear'},\n",
       "  {'C': 5,\n",
       "   'class_weight': 'balanced',\n",
       "   'penalty': None,\n",
       "   'solver': 'newton-cholesky'},\n",
       "  {'C': 5, 'class_weight': 'balanced', 'penalty': None, 'solver': 'liblinear'},\n",
       "  {'C': 5,\n",
       "   'class_weight': 'balanced',\n",
       "   'penalty': 'l1',\n",
       "   'solver': 'newton-cholesky'},\n",
       "  {'C': 5, 'class_weight': 'balanced', 'penalty': 'l1', 'solver': 'liblinear'},\n",
       "  {'C': 5,\n",
       "   'class_weight': 'balanced',\n",
       "   'penalty': 'l2',\n",
       "   'solver': 'newton-cholesky'},\n",
       "  {'C': 5,\n",
       "   'class_weight': 'balanced',\n",
       "   'penalty': 'l2',\n",
       "   'solver': 'liblinear'}],\n",
       " 'split0_test_score': array([0.84615385,        nan,        nan, 0.84615385, 0.85897436,\n",
       "        0.85897436, 0.84615385,        nan,        nan, 0.84615385,\n",
       "        0.85897436, 0.84615385, 0.84615385,        nan,        nan,\n",
       "        0.84615385, 0.84615385, 0.84615385, 0.84615385,        nan,\n",
       "               nan, 0.84615385, 0.84615385, 0.84615385]),\n",
       " 'split1_test_score': array([0.82051282,        nan,        nan, 0.82051282, 0.83333333,\n",
       "        0.83333333, 0.82051282,        nan,        nan, 0.82051282,\n",
       "        0.83333333, 0.83333333, 0.82051282,        nan,        nan,\n",
       "        0.82051282, 0.83333333, 0.83333333, 0.82051282,        nan,\n",
       "               nan, 0.82051282, 0.82051282, 0.83333333]),\n",
       " 'split2_test_score': array([0.82051282,        nan,        nan, 0.80769231, 0.80769231,\n",
       "        0.80769231, 0.82051282,        nan,        nan, 0.80769231,\n",
       "        0.80769231, 0.80769231, 0.82051282,        nan,        nan,\n",
       "        0.80769231, 0.82051282, 0.82051282, 0.82051282,        nan,\n",
       "               nan, 0.82051282, 0.82051282, 0.82051282]),\n",
       " 'split3_test_score': array([0.87179487,        nan,        nan, 0.87179487, 0.87179487,\n",
       "        0.87179487, 0.87179487,        nan,        nan, 0.88461538,\n",
       "        0.87179487, 0.87179487, 0.87179487,        nan,        nan,\n",
       "        0.88461538, 0.87179487, 0.87179487, 0.87179487,        nan,\n",
       "               nan, 0.88461538, 0.87179487, 0.87179487]),\n",
       " 'split4_test_score': array([0.84615385,        nan,        nan, 0.84615385, 0.84615385,\n",
       "        0.84615385, 0.84615385,        nan,        nan, 0.84615385,\n",
       "        0.84615385, 0.84615385, 0.84615385,        nan,        nan,\n",
       "        0.84615385, 0.84615385, 0.84615385, 0.84615385,        nan,\n",
       "               nan, 0.84615385, 0.84615385, 0.84615385]),\n",
       " 'split5_test_score': array([0.76923077,        nan,        nan, 0.78205128, 0.76923077,\n",
       "        0.76923077, 0.76923077,        nan,        nan, 0.76923077,\n",
       "        0.76923077, 0.76923077, 0.76923077,        nan,        nan,\n",
       "        0.76923077, 0.76923077, 0.76923077, 0.76923077,        nan,\n",
       "               nan, 0.76923077, 0.76923077, 0.76923077]),\n",
       " 'split6_test_score': array([0.84615385,        nan,        nan, 0.84615385, 0.84615385,\n",
       "        0.84615385, 0.84615385,        nan,        nan, 0.84615385,\n",
       "        0.84615385, 0.84615385, 0.84615385,        nan,        nan,\n",
       "        0.84615385, 0.84615385, 0.84615385, 0.84615385,        nan,\n",
       "               nan, 0.84615385, 0.84615385, 0.84615385]),\n",
       " 'split7_test_score': array([0.79487179,        nan,        nan, 0.79487179, 0.79487179,\n",
       "        0.79487179, 0.79487179,        nan,        nan, 0.76923077,\n",
       "        0.79487179, 0.79487179, 0.79487179,        nan,        nan,\n",
       "        0.78205128, 0.79487179, 0.79487179, 0.79487179,        nan,\n",
       "               nan, 0.79487179, 0.79487179, 0.79487179]),\n",
       " 'split8_test_score': array([0.80769231,        nan,        nan, 0.79487179, 0.79487179,\n",
       "        0.79487179, 0.80769231,        nan,        nan, 0.79487179,\n",
       "        0.79487179, 0.79487179, 0.80769231,        nan,        nan,\n",
       "        0.79487179, 0.80769231, 0.79487179, 0.80769231,        nan,\n",
       "               nan, 0.80769231, 0.80769231, 0.80769231]),\n",
       " 'split9_test_score': array([0.88461538,        nan,        nan, 0.88461538, 0.87179487,\n",
       "        0.87179487, 0.88461538,        nan,        nan, 0.87179487,\n",
       "        0.88461538, 0.87179487, 0.88461538,        nan,        nan,\n",
       "        0.87179487, 0.88461538, 0.87179487, 0.88461538,        nan,\n",
       "               nan, 0.88461538, 0.88461538, 0.88461538]),\n",
       " 'mean_test_score': array([0.83076923,        nan,        nan, 0.82948718, 0.82948718,\n",
       "        0.82948718, 0.83076923,        nan,        nan, 0.82564103,\n",
       "        0.83076923, 0.82820513, 0.83076923,        nan,        nan,\n",
       "        0.82692308, 0.83205128, 0.82948718, 0.83076923,        nan,\n",
       "               nan, 0.83205128, 0.83076923, 0.83205128]),\n",
       " 'std_test_score': array([0.03333333,        nan,        nan, 0.03296144, 0.03394411,\n",
       "        0.03394411, 0.03333333,        nan,        nan, 0.03811812,\n",
       "        0.03571382, 0.03303615, 0.03333333,        nan,        nan,\n",
       "        0.03637503, 0.0331603 , 0.03245895, 0.03333333,        nan,\n",
       "               nan, 0.03508701, 0.03333333, 0.0331603 ]),\n",
       " 'rank_test_score': array([ 4, 17, 17, 10, 10, 10,  4, 17, 17, 16,  4, 14,  4, 17, 17, 15,  1,\n",
       "        10,  4, 17, 17,  1,  4,  1])}"
      ]
     },
     "execution_count": 24,
     "metadata": {},
     "output_type": "execute_result"
    }
   ],
   "source": [
    "#Hyperparameter Tuning for logistic regression model\n",
    "from sklearn.model_selection import GridSearchCV\n",
    "parameters=[{'C':[0.5,1,2,5],'penalty':[None,'l1','l2'],\n",
    "    'solver':['newton-cholesky','liblinear'],\n",
    "    'class_weight':['balanced']}]\n",
    "\n",
    "model=LogisticRegression()\n",
    "clf=GridSearchCV(model,param_grid=parameters,cv=10,n_jobs=-1,scoring='accuracy')\n",
    "clf.fit(X_train,y_train)\n",
    "clf.cv_results_"
   ]
  },
  {
   "cell_type": "code",
   "execution_count": 25,
   "metadata": {},
   "outputs": [
    {
     "data": {
      "text/plain": [
       "0.832051282051282"
      ]
     },
     "execution_count": 25,
     "metadata": {},
     "output_type": "execute_result"
    }
   ],
   "source": [
    "clf.best_score_"
   ]
  },
  {
   "cell_type": "code",
   "execution_count": 26,
   "metadata": {},
   "outputs": [
    {
     "data": {
      "text/plain": [
       "{'C': 2,\n",
       " 'class_weight': 'balanced',\n",
       " 'penalty': 'l2',\n",
       " 'solver': 'newton-cholesky'}"
      ]
     },
     "execution_count": 26,
     "metadata": {},
     "output_type": "execute_result"
    }
   ],
   "source": [
    "#finding the best parameters for logistic regression model\n",
    "clf.best_params_"
   ]
  },
  {
   "cell_type": "code",
   "execution_count": 27,
   "metadata": {},
   "outputs": [
    {
     "data": {
      "text/html": [
       "<style>#sk-container-id-1 {color: black;}#sk-container-id-1 pre{padding: 0;}#sk-container-id-1 div.sk-toggleable {background-color: white;}#sk-container-id-1 label.sk-toggleable__label {cursor: pointer;display: block;width: 100%;margin-bottom: 0;padding: 0.3em;box-sizing: border-box;text-align: center;}#sk-container-id-1 label.sk-toggleable__label-arrow:before {content: \"▸\";float: left;margin-right: 0.25em;color: #696969;}#sk-container-id-1 label.sk-toggleable__label-arrow:hover:before {color: black;}#sk-container-id-1 div.sk-estimator:hover label.sk-toggleable__label-arrow:before {color: black;}#sk-container-id-1 div.sk-toggleable__content {max-height: 0;max-width: 0;overflow: hidden;text-align: left;background-color: #f0f8ff;}#sk-container-id-1 div.sk-toggleable__content pre {margin: 0.2em;color: black;border-radius: 0.25em;background-color: #f0f8ff;}#sk-container-id-1 input.sk-toggleable__control:checked~div.sk-toggleable__content {max-height: 200px;max-width: 100%;overflow: auto;}#sk-container-id-1 input.sk-toggleable__control:checked~label.sk-toggleable__label-arrow:before {content: \"▾\";}#sk-container-id-1 div.sk-estimator input.sk-toggleable__control:checked~label.sk-toggleable__label {background-color: #d4ebff;}#sk-container-id-1 div.sk-label input.sk-toggleable__control:checked~label.sk-toggleable__label {background-color: #d4ebff;}#sk-container-id-1 input.sk-hidden--visually {border: 0;clip: rect(1px 1px 1px 1px);clip: rect(1px, 1px, 1px, 1px);height: 1px;margin: -1px;overflow: hidden;padding: 0;position: absolute;width: 1px;}#sk-container-id-1 div.sk-estimator {font-family: monospace;background-color: #f0f8ff;border: 1px dotted black;border-radius: 0.25em;box-sizing: border-box;margin-bottom: 0.5em;}#sk-container-id-1 div.sk-estimator:hover {background-color: #d4ebff;}#sk-container-id-1 div.sk-parallel-item::after {content: \"\";width: 100%;border-bottom: 1px solid gray;flex-grow: 1;}#sk-container-id-1 div.sk-label:hover label.sk-toggleable__label {background-color: #d4ebff;}#sk-container-id-1 div.sk-serial::before {content: \"\";position: absolute;border-left: 1px solid gray;box-sizing: border-box;top: 0;bottom: 0;left: 50%;z-index: 0;}#sk-container-id-1 div.sk-serial {display: flex;flex-direction: column;align-items: center;background-color: white;padding-right: 0.2em;padding-left: 0.2em;position: relative;}#sk-container-id-1 div.sk-item {position: relative;z-index: 1;}#sk-container-id-1 div.sk-parallel {display: flex;align-items: stretch;justify-content: center;background-color: white;position: relative;}#sk-container-id-1 div.sk-item::before, #sk-container-id-1 div.sk-parallel-item::before {content: \"\";position: absolute;border-left: 1px solid gray;box-sizing: border-box;top: 0;bottom: 0;left: 50%;z-index: -1;}#sk-container-id-1 div.sk-parallel-item {display: flex;flex-direction: column;z-index: 1;position: relative;background-color: white;}#sk-container-id-1 div.sk-parallel-item:first-child::after {align-self: flex-end;width: 50%;}#sk-container-id-1 div.sk-parallel-item:last-child::after {align-self: flex-start;width: 50%;}#sk-container-id-1 div.sk-parallel-item:only-child::after {width: 0;}#sk-container-id-1 div.sk-dashed-wrapped {border: 1px dashed gray;margin: 0 0.4em 0.5em 0.4em;box-sizing: border-box;padding-bottom: 0.4em;background-color: white;}#sk-container-id-1 div.sk-label label {font-family: monospace;font-weight: bold;display: inline-block;line-height: 1.2em;}#sk-container-id-1 div.sk-label-container {text-align: center;}#sk-container-id-1 div.sk-container {/* jupyter's `normalize.less` sets `[hidden] { display: none; }` but bootstrap.min.css set `[hidden] { display: none !important; }` so we also need the `!important` here to be able to override the default hidden behavior on the sphinx rendered scikit-learn.org. See: https://github.com/scikit-learn/scikit-learn/issues/21755 */display: inline-block !important;position: relative;}#sk-container-id-1 div.sk-text-repr-fallback {display: none;}</style><div id=\"sk-container-id-1\" class=\"sk-top-container\"><div class=\"sk-text-repr-fallback\"><pre>LogisticRegression(C=2, class_weight=&#x27;balanced&#x27;, solver=&#x27;newton-cholesky&#x27;)</pre><b>In a Jupyter environment, please rerun this cell to show the HTML representation or trust the notebook. <br />On GitHub, the HTML representation is unable to render, please try loading this page with nbviewer.org.</b></div><div class=\"sk-container\" hidden><div class=\"sk-item\"><div class=\"sk-estimator sk-toggleable\"><input class=\"sk-toggleable__control sk-hidden--visually\" id=\"sk-estimator-id-1\" type=\"checkbox\" checked><label for=\"sk-estimator-id-1\" class=\"sk-toggleable__label sk-toggleable__label-arrow\">LogisticRegression</label><div class=\"sk-toggleable__content\"><pre>LogisticRegression(C=2, class_weight=&#x27;balanced&#x27;, solver=&#x27;newton-cholesky&#x27;)</pre></div></div></div></div></div>"
      ],
      "text/plain": [
       "LogisticRegression(C=2, class_weight='balanced', solver='newton-cholesky')"
      ]
     },
     "execution_count": 27,
     "metadata": {},
     "output_type": "execute_result"
    }
   ],
   "source": [
    "model=LogisticRegression(C=2,solver='newton-cholesky',penalty='l2',class_weight='balanced')\n",
    "model.fit(X_train,y_train)"
   ]
  },
  {
   "cell_type": "code",
   "execution_count": 28,
   "metadata": {},
   "outputs": [
    {
     "data": {
      "text/plain": [
       "0.9057971014492754"
      ]
     },
     "execution_count": 28,
     "metadata": {},
     "output_type": "execute_result"
    }
   ],
   "source": [
    "#determining the accuracy score of the model\n",
    "from sklearn.metrics import accuracy_score\n",
    "y_test_pred=model.predict(X_test)\n",
    "accuracy=accuracy_score(y_test_pred,y_test)\n",
    "accuracy"
   ]
  },
  {
   "cell_type": "markdown",
   "metadata": {},
   "source": [
    "Random Forest Classifier Model"
   ]
  },
  {
   "cell_type": "code",
   "execution_count": 29,
   "metadata": {},
   "outputs": [],
   "source": [
    "from sklearn.ensemble import RandomForestClassifier"
   ]
  },
  {
   "cell_type": "code",
   "execution_count": 45,
   "metadata": {},
   "outputs": [
    {
     "name": "stderr",
     "output_type": "stream",
     "text": [
      "c:\\Users\\SUBHASISH NEOGI\\anaconda3\\Lib\\site-packages\\joblib\\externals\\loky\\process_executor.py:700: UserWarning: A worker stopped while some jobs were given to the executor. This can be caused by a too short worker timeout or by a memory leak.\n",
      "  warnings.warn(\n"
     ]
    },
    {
     "data": {
      "text/plain": [
       "{'mean_fit_time': array([ 0.46893404,  1.26241183,  3.09679036,  6.82605531,  0.39137254,\n",
       "         0.89841154,  3.05154488,  6.34457526,  0.48302662,  1.04988601,\n",
       "         3.386761  ,  6.96398304,  0.43319809,  0.93728409,  3.50682001,\n",
       "         6.88367815,  0.56658063,  1.14484446,  4.29286134,  9.67118168,\n",
       "         0.69625773,  1.83890321,  4.8092448 ,  8.81906362,  0.74543357,\n",
       "         1.97870498,  4.84524083,  9.75023329,  0.51870182,  1.73345854,\n",
       "         5.25761702, 16.49978878,  1.75251682,  2.07215843,  5.44858348,\n",
       "         9.89834936,  0.5416445 ,  1.43732862,  5.7046936 , 11.68639214,\n",
       "         0.831621  ,  2.74428928, 10.05085592, 12.11567917,  0.63788111,\n",
       "         1.69468675,  5.59633563, 10.42426369]),\n",
       " 'std_fit_time': array([0.18782438, 0.70970287, 1.40228504, 2.66402463, 0.01023327,\n",
       "        0.35171478, 1.37347457, 2.25836528, 0.21595258, 0.4597271 ,\n",
       "        1.43033151, 2.5788586 , 0.03687183, 0.3599853 , 1.48428737,\n",
       "        2.75519723, 0.1969473 , 0.45187598, 1.84406058, 2.94533777,\n",
       "        0.31816172, 0.72284116, 1.66843561, 3.33500579, 0.34159507,\n",
       "        0.76389115, 1.88810296, 3.7753449 , 0.00920614, 0.83098975,\n",
       "        2.12230018, 6.59861687, 1.04828055, 0.86970252, 1.46041023,\n",
       "        3.11773157, 0.01072529, 0.65046195, 1.7966906 , 3.17350654,\n",
       "        0.36167166, 1.23167194, 3.32190706, 4.41644427, 0.01188062,\n",
       "        0.77123915, 2.42195106, 3.64153785]),\n",
       " 'mean_score_time': array([0.04168382, 0.09308658, 0.21104975, 0.48050239, 0.03386946,\n",
       "        0.07514577, 0.20692914, 0.42401843, 0.04187582, 0.07780533,\n",
       "        0.26831834, 0.49178734, 0.03555775, 0.07408979, 0.23914742,\n",
       "        0.48537402, 0.03223147, 0.06703234, 0.24492955, 0.62223504,\n",
       "        0.04149263, 0.11623149, 0.28259404, 0.49617112, 0.05060344,\n",
       "        0.12172318, 0.28735821, 0.52861993, 0.03435147, 0.09541578,\n",
       "        0.29470046, 0.68940196, 0.0961513 , 0.12829766, 0.25781837,\n",
       "        0.51097822, 0.03314133, 0.08859272, 0.32970223, 0.58355684,\n",
       "        0.04400001, 0.1440654 , 0.40405605, 0.56132836, 0.03604596,\n",
       "        0.07884922, 0.26139648, 0.38709264]),\n",
       " 'std_score_time': array([0.03853215, 0.06814779, 0.09340276, 0.19283405, 0.00457908,\n",
       "        0.04639278, 0.08227142, 0.17560442, 0.02052706, 0.03788384,\n",
       "        0.12441436, 0.19162339, 0.00843835, 0.03931861, 0.09965962,\n",
       "        0.20831212, 0.00486556, 0.01741238, 0.1019733 , 0.17327205,\n",
       "        0.02341273, 0.06314302, 0.1022745 , 0.21560715, 0.02932513,\n",
       "        0.06205993, 0.12830094, 0.20798774, 0.00634363, 0.04294504,\n",
       "        0.13793226, 0.23132228, 0.06528941, 0.05961493, 0.10668055,\n",
       "        0.2166063 , 0.00562023, 0.04009069, 0.10525177, 0.2679236 ,\n",
       "        0.0224681 , 0.06897944, 0.092245  , 0.26284844, 0.00622334,\n",
       "        0.02390317, 0.10728178, 0.07893474]),\n",
       " 'param_class_weight': masked_array(data=['balanced', 'balanced', 'balanced', 'balanced',\n",
       "                    'balanced', 'balanced', 'balanced', 'balanced',\n",
       "                    'balanced', 'balanced', 'balanced', 'balanced',\n",
       "                    'balanced', 'balanced', 'balanced', 'balanced',\n",
       "                    'balanced', 'balanced', 'balanced', 'balanced',\n",
       "                    'balanced', 'balanced', 'balanced', 'balanced',\n",
       "                    'balanced_subsample', 'balanced_subsample',\n",
       "                    'balanced_subsample', 'balanced_subsample',\n",
       "                    'balanced_subsample', 'balanced_subsample',\n",
       "                    'balanced_subsample', 'balanced_subsample',\n",
       "                    'balanced_subsample', 'balanced_subsample',\n",
       "                    'balanced_subsample', 'balanced_subsample',\n",
       "                    'balanced_subsample', 'balanced_subsample',\n",
       "                    'balanced_subsample', 'balanced_subsample',\n",
       "                    'balanced_subsample', 'balanced_subsample',\n",
       "                    'balanced_subsample', 'balanced_subsample',\n",
       "                    'balanced_subsample', 'balanced_subsample',\n",
       "                    'balanced_subsample', 'balanced_subsample'],\n",
       "              mask=[False, False, False, False, False, False, False, False,\n",
       "                    False, False, False, False, False, False, False, False,\n",
       "                    False, False, False, False, False, False, False, False,\n",
       "                    False, False, False, False, False, False, False, False,\n",
       "                    False, False, False, False, False, False, False, False,\n",
       "                    False, False, False, False, False, False, False, False],\n",
       "        fill_value='?',\n",
       "             dtype=object),\n",
       " 'param_max_depth': masked_array(data=[1, 1, 1, 1, 1, 1, 1, 1, 2, 2, 2, 2, 2, 2, 2, 2, 5, 5,\n",
       "                    5, 5, 5, 5, 5, 5, 1, 1, 1, 1, 1, 1, 1, 1, 2, 2, 2, 2,\n",
       "                    2, 2, 2, 2, 5, 5, 5, 5, 5, 5, 5, 5],\n",
       "              mask=[False, False, False, False, False, False, False, False,\n",
       "                    False, False, False, False, False, False, False, False,\n",
       "                    False, False, False, False, False, False, False, False,\n",
       "                    False, False, False, False, False, False, False, False,\n",
       "                    False, False, False, False, False, False, False, False,\n",
       "                    False, False, False, False, False, False, False, False],\n",
       "        fill_value='?',\n",
       "             dtype=object),\n",
       " 'param_min_samples_split': masked_array(data=[2, 2, 2, 2, 5, 5, 5, 5, 2, 2, 2, 2, 5, 5, 5, 5, 2, 2,\n",
       "                    2, 2, 5, 5, 5, 5, 2, 2, 2, 2, 5, 5, 5, 5, 2, 2, 2, 2,\n",
       "                    5, 5, 5, 5, 2, 2, 2, 2, 5, 5, 5, 5],\n",
       "              mask=[False, False, False, False, False, False, False, False,\n",
       "                    False, False, False, False, False, False, False, False,\n",
       "                    False, False, False, False, False, False, False, False,\n",
       "                    False, False, False, False, False, False, False, False,\n",
       "                    False, False, False, False, False, False, False, False,\n",
       "                    False, False, False, False, False, False, False, False],\n",
       "        fill_value='?',\n",
       "             dtype=object),\n",
       " 'param_n_estimators': masked_array(data=[100, 200, 500, 1000, 100, 200, 500, 1000, 100, 200,\n",
       "                    500, 1000, 100, 200, 500, 1000, 100, 200, 500, 1000,\n",
       "                    100, 200, 500, 1000, 100, 200, 500, 1000, 100, 200,\n",
       "                    500, 1000, 100, 200, 500, 1000, 100, 200, 500, 1000,\n",
       "                    100, 200, 500, 1000, 100, 200, 500, 1000],\n",
       "              mask=[False, False, False, False, False, False, False, False,\n",
       "                    False, False, False, False, False, False, False, False,\n",
       "                    False, False, False, False, False, False, False, False,\n",
       "                    False, False, False, False, False, False, False, False,\n",
       "                    False, False, False, False, False, False, False, False,\n",
       "                    False, False, False, False, False, False, False, False],\n",
       "        fill_value='?',\n",
       "             dtype=object),\n",
       " 'params': [{'class_weight': 'balanced',\n",
       "   'max_depth': 1,\n",
       "   'min_samples_split': 2,\n",
       "   'n_estimators': 100},\n",
       "  {'class_weight': 'balanced',\n",
       "   'max_depth': 1,\n",
       "   'min_samples_split': 2,\n",
       "   'n_estimators': 200},\n",
       "  {'class_weight': 'balanced',\n",
       "   'max_depth': 1,\n",
       "   'min_samples_split': 2,\n",
       "   'n_estimators': 500},\n",
       "  {'class_weight': 'balanced',\n",
       "   'max_depth': 1,\n",
       "   'min_samples_split': 2,\n",
       "   'n_estimators': 1000},\n",
       "  {'class_weight': 'balanced',\n",
       "   'max_depth': 1,\n",
       "   'min_samples_split': 5,\n",
       "   'n_estimators': 100},\n",
       "  {'class_weight': 'balanced',\n",
       "   'max_depth': 1,\n",
       "   'min_samples_split': 5,\n",
       "   'n_estimators': 200},\n",
       "  {'class_weight': 'balanced',\n",
       "   'max_depth': 1,\n",
       "   'min_samples_split': 5,\n",
       "   'n_estimators': 500},\n",
       "  {'class_weight': 'balanced',\n",
       "   'max_depth': 1,\n",
       "   'min_samples_split': 5,\n",
       "   'n_estimators': 1000},\n",
       "  {'class_weight': 'balanced',\n",
       "   'max_depth': 2,\n",
       "   'min_samples_split': 2,\n",
       "   'n_estimators': 100},\n",
       "  {'class_weight': 'balanced',\n",
       "   'max_depth': 2,\n",
       "   'min_samples_split': 2,\n",
       "   'n_estimators': 200},\n",
       "  {'class_weight': 'balanced',\n",
       "   'max_depth': 2,\n",
       "   'min_samples_split': 2,\n",
       "   'n_estimators': 500},\n",
       "  {'class_weight': 'balanced',\n",
       "   'max_depth': 2,\n",
       "   'min_samples_split': 2,\n",
       "   'n_estimators': 1000},\n",
       "  {'class_weight': 'balanced',\n",
       "   'max_depth': 2,\n",
       "   'min_samples_split': 5,\n",
       "   'n_estimators': 100},\n",
       "  {'class_weight': 'balanced',\n",
       "   'max_depth': 2,\n",
       "   'min_samples_split': 5,\n",
       "   'n_estimators': 200},\n",
       "  {'class_weight': 'balanced',\n",
       "   'max_depth': 2,\n",
       "   'min_samples_split': 5,\n",
       "   'n_estimators': 500},\n",
       "  {'class_weight': 'balanced',\n",
       "   'max_depth': 2,\n",
       "   'min_samples_split': 5,\n",
       "   'n_estimators': 1000},\n",
       "  {'class_weight': 'balanced',\n",
       "   'max_depth': 5,\n",
       "   'min_samples_split': 2,\n",
       "   'n_estimators': 100},\n",
       "  {'class_weight': 'balanced',\n",
       "   'max_depth': 5,\n",
       "   'min_samples_split': 2,\n",
       "   'n_estimators': 200},\n",
       "  {'class_weight': 'balanced',\n",
       "   'max_depth': 5,\n",
       "   'min_samples_split': 2,\n",
       "   'n_estimators': 500},\n",
       "  {'class_weight': 'balanced',\n",
       "   'max_depth': 5,\n",
       "   'min_samples_split': 2,\n",
       "   'n_estimators': 1000},\n",
       "  {'class_weight': 'balanced',\n",
       "   'max_depth': 5,\n",
       "   'min_samples_split': 5,\n",
       "   'n_estimators': 100},\n",
       "  {'class_weight': 'balanced',\n",
       "   'max_depth': 5,\n",
       "   'min_samples_split': 5,\n",
       "   'n_estimators': 200},\n",
       "  {'class_weight': 'balanced',\n",
       "   'max_depth': 5,\n",
       "   'min_samples_split': 5,\n",
       "   'n_estimators': 500},\n",
       "  {'class_weight': 'balanced',\n",
       "   'max_depth': 5,\n",
       "   'min_samples_split': 5,\n",
       "   'n_estimators': 1000},\n",
       "  {'class_weight': 'balanced_subsample',\n",
       "   'max_depth': 1,\n",
       "   'min_samples_split': 2,\n",
       "   'n_estimators': 100},\n",
       "  {'class_weight': 'balanced_subsample',\n",
       "   'max_depth': 1,\n",
       "   'min_samples_split': 2,\n",
       "   'n_estimators': 200},\n",
       "  {'class_weight': 'balanced_subsample',\n",
       "   'max_depth': 1,\n",
       "   'min_samples_split': 2,\n",
       "   'n_estimators': 500},\n",
       "  {'class_weight': 'balanced_subsample',\n",
       "   'max_depth': 1,\n",
       "   'min_samples_split': 2,\n",
       "   'n_estimators': 1000},\n",
       "  {'class_weight': 'balanced_subsample',\n",
       "   'max_depth': 1,\n",
       "   'min_samples_split': 5,\n",
       "   'n_estimators': 100},\n",
       "  {'class_weight': 'balanced_subsample',\n",
       "   'max_depth': 1,\n",
       "   'min_samples_split': 5,\n",
       "   'n_estimators': 200},\n",
       "  {'class_weight': 'balanced_subsample',\n",
       "   'max_depth': 1,\n",
       "   'min_samples_split': 5,\n",
       "   'n_estimators': 500},\n",
       "  {'class_weight': 'balanced_subsample',\n",
       "   'max_depth': 1,\n",
       "   'min_samples_split': 5,\n",
       "   'n_estimators': 1000},\n",
       "  {'class_weight': 'balanced_subsample',\n",
       "   'max_depth': 2,\n",
       "   'min_samples_split': 2,\n",
       "   'n_estimators': 100},\n",
       "  {'class_weight': 'balanced_subsample',\n",
       "   'max_depth': 2,\n",
       "   'min_samples_split': 2,\n",
       "   'n_estimators': 200},\n",
       "  {'class_weight': 'balanced_subsample',\n",
       "   'max_depth': 2,\n",
       "   'min_samples_split': 2,\n",
       "   'n_estimators': 500},\n",
       "  {'class_weight': 'balanced_subsample',\n",
       "   'max_depth': 2,\n",
       "   'min_samples_split': 2,\n",
       "   'n_estimators': 1000},\n",
       "  {'class_weight': 'balanced_subsample',\n",
       "   'max_depth': 2,\n",
       "   'min_samples_split': 5,\n",
       "   'n_estimators': 100},\n",
       "  {'class_weight': 'balanced_subsample',\n",
       "   'max_depth': 2,\n",
       "   'min_samples_split': 5,\n",
       "   'n_estimators': 200},\n",
       "  {'class_weight': 'balanced_subsample',\n",
       "   'max_depth': 2,\n",
       "   'min_samples_split': 5,\n",
       "   'n_estimators': 500},\n",
       "  {'class_weight': 'balanced_subsample',\n",
       "   'max_depth': 2,\n",
       "   'min_samples_split': 5,\n",
       "   'n_estimators': 1000},\n",
       "  {'class_weight': 'balanced_subsample',\n",
       "   'max_depth': 5,\n",
       "   'min_samples_split': 2,\n",
       "   'n_estimators': 100},\n",
       "  {'class_weight': 'balanced_subsample',\n",
       "   'max_depth': 5,\n",
       "   'min_samples_split': 2,\n",
       "   'n_estimators': 200},\n",
       "  {'class_weight': 'balanced_subsample',\n",
       "   'max_depth': 5,\n",
       "   'min_samples_split': 2,\n",
       "   'n_estimators': 500},\n",
       "  {'class_weight': 'balanced_subsample',\n",
       "   'max_depth': 5,\n",
       "   'min_samples_split': 2,\n",
       "   'n_estimators': 1000},\n",
       "  {'class_weight': 'balanced_subsample',\n",
       "   'max_depth': 5,\n",
       "   'min_samples_split': 5,\n",
       "   'n_estimators': 100},\n",
       "  {'class_weight': 'balanced_subsample',\n",
       "   'max_depth': 5,\n",
       "   'min_samples_split': 5,\n",
       "   'n_estimators': 200},\n",
       "  {'class_weight': 'balanced_subsample',\n",
       "   'max_depth': 5,\n",
       "   'min_samples_split': 5,\n",
       "   'n_estimators': 500},\n",
       "  {'class_weight': 'balanced_subsample',\n",
       "   'max_depth': 5,\n",
       "   'min_samples_split': 5,\n",
       "   'n_estimators': 1000}],\n",
       " 'split0_test_score': array([0.83333333, 0.80769231, 0.84615385, 0.83333333, 0.83333333,\n",
       "        0.83333333, 0.84615385, 0.83333333, 0.84615385, 0.80769231,\n",
       "        0.83333333, 0.83333333, 0.83333333, 0.83333333, 0.83333333,\n",
       "        0.82051282, 0.85897436, 0.85897436, 0.85897436, 0.85897436,\n",
       "        0.85897436, 0.85897436, 0.85897436, 0.85897436, 0.84615385,\n",
       "        0.83333333, 0.84615385, 0.83333333, 0.83333333, 0.83333333,\n",
       "        0.84615385, 0.84615385, 0.82051282, 0.83333333, 0.83333333,\n",
       "        0.82051282, 0.84615385, 0.83333333, 0.83333333, 0.83333333,\n",
       "        0.87179487, 0.85897436, 0.87179487, 0.85897436, 0.87179487,\n",
       "        0.87179487, 0.87179487, 0.85897436]),\n",
       " 'split1_test_score': array([0.80769231, 0.84615385, 0.83333333, 0.85897436, 0.80769231,\n",
       "        0.80769231, 0.80769231, 0.80769231, 0.84615385, 0.80769231,\n",
       "        0.82051282, 0.80769231, 0.80769231, 0.80769231, 0.80769231,\n",
       "        0.80769231, 0.80769231, 0.80769231, 0.80769231, 0.80769231,\n",
       "        0.83333333, 0.80769231, 0.80769231, 0.80769231, 0.83333333,\n",
       "        0.80769231, 0.82051282, 0.80769231, 0.80769231, 0.80769231,\n",
       "        0.80769231, 0.79487179, 0.82051282, 0.84615385, 0.80769231,\n",
       "        0.80769231, 0.82051282, 0.82051282, 0.80769231, 0.80769231,\n",
       "        0.80769231, 0.83333333, 0.80769231, 0.80769231, 0.80769231,\n",
       "        0.80769231, 0.80769231, 0.80769231]),\n",
       " 'split2_test_score': array([0.80769231, 0.80769231, 0.78205128, 0.78205128, 0.78205128,\n",
       "        0.76923077, 0.78205128, 0.78205128, 0.79487179, 0.80769231,\n",
       "        0.79487179, 0.79487179, 0.78205128, 0.79487179, 0.79487179,\n",
       "        0.80769231, 0.83333333, 0.82051282, 0.82051282, 0.82051282,\n",
       "        0.83333333, 0.83333333, 0.84615385, 0.82051282, 0.78205128,\n",
       "        0.78205128, 0.78205128, 0.79487179, 0.76923077, 0.78205128,\n",
       "        0.79487179, 0.78205128, 0.79487179, 0.79487179, 0.80769231,\n",
       "        0.79487179, 0.78205128, 0.80769231, 0.79487179, 0.79487179,\n",
       "        0.84615385, 0.83333333, 0.82051282, 0.82051282, 0.83333333,\n",
       "        0.82051282, 0.82051282, 0.82051282]),\n",
       " 'split3_test_score': array([0.85897436, 0.82051282, 0.84615385, 0.84615385, 0.83333333,\n",
       "        0.84615385, 0.83333333, 0.84615385, 0.87179487, 0.88461538,\n",
       "        0.87179487, 0.87179487, 0.8974359 , 0.88461538, 0.87179487,\n",
       "        0.88461538, 0.8974359 , 0.8974359 , 0.88461538, 0.8974359 ,\n",
       "        0.91025641, 0.8974359 , 0.8974359 , 0.8974359 , 0.84615385,\n",
       "        0.83333333, 0.85897436, 0.84615385, 0.84615385, 0.84615385,\n",
       "        0.85897436, 0.84615385, 0.87179487, 0.87179487, 0.87179487,\n",
       "        0.88461538, 0.88461538, 0.88461538, 0.88461538, 0.87179487,\n",
       "        0.88461538, 0.91025641, 0.8974359 , 0.88461538, 0.91025641,\n",
       "        0.8974359 , 0.8974359 , 0.88461538]),\n",
       " 'split4_test_score': array([0.85897436, 0.88461538, 0.87179487, 0.88461538, 0.84615385,\n",
       "        0.87179487, 0.87179487, 0.87179487, 0.85897436, 0.88461538,\n",
       "        0.87179487, 0.88461538, 0.88461538, 0.85897436, 0.8974359 ,\n",
       "        0.88461538, 0.87179487, 0.88461538, 0.88461538, 0.88461538,\n",
       "        0.88461538, 0.8974359 , 0.88461538, 0.88461538, 0.85897436,\n",
       "        0.88461538, 0.87179487, 0.88461538, 0.88461538, 0.85897436,\n",
       "        0.87179487, 0.88461538, 0.87179487, 0.88461538, 0.88461538,\n",
       "        0.88461538, 0.8974359 , 0.88461538, 0.87179487, 0.87179487,\n",
       "        0.85897436, 0.88461538, 0.87179487, 0.88461538, 0.85897436,\n",
       "        0.87179487, 0.87179487, 0.88461538]),\n",
       " 'split5_test_score': array([0.79487179, 0.79487179, 0.79487179, 0.79487179, 0.79487179,\n",
       "        0.78205128, 0.80769231, 0.78205128, 0.79487179, 0.80769231,\n",
       "        0.80769231, 0.80769231, 0.80769231, 0.79487179, 0.80769231,\n",
       "        0.80769231, 0.82051282, 0.82051282, 0.80769231, 0.82051282,\n",
       "        0.82051282, 0.80769231, 0.80769231, 0.80769231, 0.80769231,\n",
       "        0.79487179, 0.78205128, 0.78205128, 0.79487179, 0.78205128,\n",
       "        0.78205128, 0.76923077, 0.80769231, 0.83333333, 0.80769231,\n",
       "        0.79487179, 0.80769231, 0.82051282, 0.80769231, 0.82051282,\n",
       "        0.83333333, 0.82051282, 0.80769231, 0.82051282, 0.82051282,\n",
       "        0.80769231, 0.80769231, 0.80769231]),\n",
       " 'split6_test_score': array([0.84615385, 0.82051282, 0.85897436, 0.83333333, 0.79487179,\n",
       "        0.84615385, 0.83333333, 0.83333333, 0.87179487, 0.87179487,\n",
       "        0.85897436, 0.85897436, 0.82051282, 0.85897436, 0.85897436,\n",
       "        0.87179487, 0.87179487, 0.85897436, 0.84615385, 0.87179487,\n",
       "        0.87179487, 0.87179487, 0.85897436, 0.87179487, 0.82051282,\n",
       "        0.84615385, 0.83333333, 0.83333333, 0.83333333, 0.84615385,\n",
       "        0.82051282, 0.83333333, 0.85897436, 0.85897436, 0.84615385,\n",
       "        0.87179487, 0.85897436, 0.85897436, 0.85897436, 0.85897436,\n",
       "        0.8974359 , 0.87179487, 0.85897436, 0.85897436, 0.84615385,\n",
       "        0.84615385, 0.87179487, 0.85897436]),\n",
       " 'split7_test_score': array([0.79487179, 0.79487179, 0.79487179, 0.82051282, 0.80769231,\n",
       "        0.82051282, 0.82051282, 0.80769231, 0.83333333, 0.84615385,\n",
       "        0.83333333, 0.84615385, 0.83333333, 0.82051282, 0.83333333,\n",
       "        0.83333333, 0.85897436, 0.84615385, 0.84615385, 0.84615385,\n",
       "        0.85897436, 0.85897436, 0.84615385, 0.84615385, 0.83333333,\n",
       "        0.80769231, 0.80769231, 0.82051282, 0.82051282, 0.79487179,\n",
       "        0.82051282, 0.80769231, 0.83333333, 0.83333333, 0.83333333,\n",
       "        0.84615385, 0.84615385, 0.84615385, 0.83333333, 0.83333333,\n",
       "        0.87179487, 0.84615385, 0.84615385, 0.84615385, 0.88461538,\n",
       "        0.84615385, 0.84615385, 0.84615385]),\n",
       " 'split8_test_score': array([0.82051282, 0.79487179, 0.79487179, 0.82051282, 0.80769231,\n",
       "        0.80769231, 0.80769231, 0.79487179, 0.82051282, 0.83333333,\n",
       "        0.83333333, 0.83333333, 0.82051282, 0.83333333, 0.83333333,\n",
       "        0.83333333, 0.85897436, 0.85897436, 0.87179487, 0.85897436,\n",
       "        0.85897436, 0.87179487, 0.87179487, 0.85897436, 0.79487179,\n",
       "        0.80769231, 0.80769231, 0.79487179, 0.80769231, 0.79487179,\n",
       "        0.80769231, 0.80769231, 0.83333333, 0.82051282, 0.83333333,\n",
       "        0.83333333, 0.83333333, 0.83333333, 0.83333333, 0.83333333,\n",
       "        0.85897436, 0.85897436, 0.85897436, 0.85897436, 0.85897436,\n",
       "        0.87179487, 0.84615385, 0.84615385]),\n",
       " 'split9_test_score': array([0.88461538, 0.88461538, 0.88461538, 0.88461538, 0.84615385,\n",
       "        0.83333333, 0.87179487, 0.88461538, 0.91025641, 0.8974359 ,\n",
       "        0.92307692, 0.91025641, 0.91025641, 0.92307692, 0.91025641,\n",
       "        0.92307692, 0.91025641, 0.91025641, 0.91025641, 0.91025641,\n",
       "        0.92307692, 0.91025641, 0.91025641, 0.91025641, 0.88461538,\n",
       "        0.88461538, 0.88461538, 0.87179487, 0.88461538, 0.8974359 ,\n",
       "        0.88461538, 0.87179487, 0.92307692, 0.91025641, 0.91025641,\n",
       "        0.92307692, 0.92307692, 0.92307692, 0.91025641, 0.92307692,\n",
       "        0.91025641, 0.91025641, 0.91025641, 0.91025641, 0.91025641,\n",
       "        0.91025641, 0.91025641, 0.91025641]),\n",
       " 'mean_test_score': array([0.83076923, 0.82564103, 0.83076923, 0.83589744, 0.81538462,\n",
       "        0.82179487, 0.82820513, 0.82435897, 0.84487179, 0.84487179,\n",
       "        0.84487179, 0.84487179, 0.83974359, 0.84102564, 0.84487179,\n",
       "        0.8474359 , 0.85897436, 0.85641026, 0.85384615, 0.85769231,\n",
       "        0.86538462, 0.86153846, 0.85897436, 0.85641026, 0.83076923,\n",
       "        0.82820513, 0.82948718, 0.82692308, 0.82820513, 0.82435897,\n",
       "        0.82948718, 0.82435897, 0.84358974, 0.84871795, 0.84358974,\n",
       "        0.84615385, 0.85      , 0.85128205, 0.84358974, 0.84487179,\n",
       "        0.86410256, 0.86282051, 0.85512821, 0.85512821, 0.86025641,\n",
       "        0.85512821, 0.85512821, 0.8525641 ]),\n",
       " 'std_test_score': array([0.02912261, 0.03303615, 0.03478118, 0.0323321 , 0.02160551,\n",
       "        0.02948718, 0.02761623, 0.03394411, 0.03413725, 0.03508701,\n",
       "        0.03555237, 0.03508701, 0.04064325, 0.03897099, 0.03691328,\n",
       "        0.03865337, 0.03033887, 0.0323321 , 0.03303615, 0.03266087,\n",
       "        0.03153429, 0.03430535, 0.03243362, 0.03430535, 0.02912261,\n",
       "        0.03352999, 0.03394411, 0.03205128, 0.0349697 , 0.03628454,\n",
       "        0.03245895, 0.03628454, 0.03617112, 0.03181968, 0.03333333,\n",
       "        0.04134491, 0.04056229, 0.03449647, 0.03525058, 0.03555237,\n",
       "        0.02878198, 0.02981975, 0.03345638, 0.03090249, 0.0331603 ,\n",
       "        0.03394411, 0.03394411, 0.03256006]),\n",
       " 'rank_test_score': array([34, 43, 34, 33, 48, 47, 39, 44, 24, 22, 24, 24, 32, 31, 22, 20,  6,\n",
       "         9, 15,  8,  1,  4,  6,  9, 34, 39, 37, 42, 39, 44, 37, 44, 28, 19,\n",
       "        28, 21, 18, 17, 28, 24,  2,  3, 12, 14,  5, 11, 12, 16])}"
      ]
     },
     "execution_count": 45,
     "metadata": {},
     "output_type": "execute_result"
    }
   ],
   "source": [
    "#Hyperparameter Tuning for Random Forest Classifier Model\n",
    "from sklearn.model_selection import GridSearchCV\n",
    "parameters=[{'n_estimators':[100,200,500,1000],'max_depth':[1,2,5],\n",
    "    'min_samples_split':[2,5],\n",
    "    'class_weight':['balanced','balanced_subsample']}]\n",
    "\n",
    "classifier=RandomForestClassifier()\n",
    "clf=GridSearchCV(classifier,param_grid=parameters,cv=10,n_jobs=-1,scoring='accuracy')\n",
    "clf.fit(X_train,y_train)\n",
    "clf.cv_results_"
   ]
  },
  {
   "cell_type": "code",
   "execution_count": 46,
   "metadata": {},
   "outputs": [
    {
     "data": {
      "text/plain": [
       "0.8653846153846153"
      ]
     },
     "execution_count": 46,
     "metadata": {},
     "output_type": "execute_result"
    }
   ],
   "source": [
    "clf.best_score_"
   ]
  },
  {
   "cell_type": "code",
   "execution_count": 47,
   "metadata": {},
   "outputs": [
    {
     "data": {
      "text/plain": [
       "{'class_weight': 'balanced',\n",
       " 'max_depth': 5,\n",
       " 'min_samples_split': 5,\n",
       " 'n_estimators': 100}"
      ]
     },
     "execution_count": 47,
     "metadata": {},
     "output_type": "execute_result"
    }
   ],
   "source": [
    "#finding the best parameters for random forest model\n",
    "clf.best_params_"
   ]
  },
  {
   "cell_type": "code",
   "execution_count": 48,
   "metadata": {},
   "outputs": [
    {
     "data": {
      "text/html": [
       "<style>#sk-container-id-5 {color: black;}#sk-container-id-5 pre{padding: 0;}#sk-container-id-5 div.sk-toggleable {background-color: white;}#sk-container-id-5 label.sk-toggleable__label {cursor: pointer;display: block;width: 100%;margin-bottom: 0;padding: 0.3em;box-sizing: border-box;text-align: center;}#sk-container-id-5 label.sk-toggleable__label-arrow:before {content: \"▸\";float: left;margin-right: 0.25em;color: #696969;}#sk-container-id-5 label.sk-toggleable__label-arrow:hover:before {color: black;}#sk-container-id-5 div.sk-estimator:hover label.sk-toggleable__label-arrow:before {color: black;}#sk-container-id-5 div.sk-toggleable__content {max-height: 0;max-width: 0;overflow: hidden;text-align: left;background-color: #f0f8ff;}#sk-container-id-5 div.sk-toggleable__content pre {margin: 0.2em;color: black;border-radius: 0.25em;background-color: #f0f8ff;}#sk-container-id-5 input.sk-toggleable__control:checked~div.sk-toggleable__content {max-height: 200px;max-width: 100%;overflow: auto;}#sk-container-id-5 input.sk-toggleable__control:checked~label.sk-toggleable__label-arrow:before {content: \"▾\";}#sk-container-id-5 div.sk-estimator input.sk-toggleable__control:checked~label.sk-toggleable__label {background-color: #d4ebff;}#sk-container-id-5 div.sk-label input.sk-toggleable__control:checked~label.sk-toggleable__label {background-color: #d4ebff;}#sk-container-id-5 input.sk-hidden--visually {border: 0;clip: rect(1px 1px 1px 1px);clip: rect(1px, 1px, 1px, 1px);height: 1px;margin: -1px;overflow: hidden;padding: 0;position: absolute;width: 1px;}#sk-container-id-5 div.sk-estimator {font-family: monospace;background-color: #f0f8ff;border: 1px dotted black;border-radius: 0.25em;box-sizing: border-box;margin-bottom: 0.5em;}#sk-container-id-5 div.sk-estimator:hover {background-color: #d4ebff;}#sk-container-id-5 div.sk-parallel-item::after {content: \"\";width: 100%;border-bottom: 1px solid gray;flex-grow: 1;}#sk-container-id-5 div.sk-label:hover label.sk-toggleable__label {background-color: #d4ebff;}#sk-container-id-5 div.sk-serial::before {content: \"\";position: absolute;border-left: 1px solid gray;box-sizing: border-box;top: 0;bottom: 0;left: 50%;z-index: 0;}#sk-container-id-5 div.sk-serial {display: flex;flex-direction: column;align-items: center;background-color: white;padding-right: 0.2em;padding-left: 0.2em;position: relative;}#sk-container-id-5 div.sk-item {position: relative;z-index: 1;}#sk-container-id-5 div.sk-parallel {display: flex;align-items: stretch;justify-content: center;background-color: white;position: relative;}#sk-container-id-5 div.sk-item::before, #sk-container-id-5 div.sk-parallel-item::before {content: \"\";position: absolute;border-left: 1px solid gray;box-sizing: border-box;top: 0;bottom: 0;left: 50%;z-index: -1;}#sk-container-id-5 div.sk-parallel-item {display: flex;flex-direction: column;z-index: 1;position: relative;background-color: white;}#sk-container-id-5 div.sk-parallel-item:first-child::after {align-self: flex-end;width: 50%;}#sk-container-id-5 div.sk-parallel-item:last-child::after {align-self: flex-start;width: 50%;}#sk-container-id-5 div.sk-parallel-item:only-child::after {width: 0;}#sk-container-id-5 div.sk-dashed-wrapped {border: 1px dashed gray;margin: 0 0.4em 0.5em 0.4em;box-sizing: border-box;padding-bottom: 0.4em;background-color: white;}#sk-container-id-5 div.sk-label label {font-family: monospace;font-weight: bold;display: inline-block;line-height: 1.2em;}#sk-container-id-5 div.sk-label-container {text-align: center;}#sk-container-id-5 div.sk-container {/* jupyter's `normalize.less` sets `[hidden] { display: none; }` but bootstrap.min.css set `[hidden] { display: none !important; }` so we also need the `!important` here to be able to override the default hidden behavior on the sphinx rendered scikit-learn.org. See: https://github.com/scikit-learn/scikit-learn/issues/21755 */display: inline-block !important;position: relative;}#sk-container-id-5 div.sk-text-repr-fallback {display: none;}</style><div id=\"sk-container-id-5\" class=\"sk-top-container\"><div class=\"sk-text-repr-fallback\"><pre>RandomForestClassifier(class_weight=&#x27;balanced&#x27;, max_depth=5,\n",
       "                       min_samples_split=5)</pre><b>In a Jupyter environment, please rerun this cell to show the HTML representation or trust the notebook. <br />On GitHub, the HTML representation is unable to render, please try loading this page with nbviewer.org.</b></div><div class=\"sk-container\" hidden><div class=\"sk-item\"><div class=\"sk-estimator sk-toggleable\"><input class=\"sk-toggleable__control sk-hidden--visually\" id=\"sk-estimator-id-5\" type=\"checkbox\" checked><label for=\"sk-estimator-id-5\" class=\"sk-toggleable__label sk-toggleable__label-arrow\">RandomForestClassifier</label><div class=\"sk-toggleable__content\"><pre>RandomForestClassifier(class_weight=&#x27;balanced&#x27;, max_depth=5,\n",
       "                       min_samples_split=5)</pre></div></div></div></div></div>"
      ],
      "text/plain": [
       "RandomForestClassifier(class_weight='balanced', max_depth=5,\n",
       "                       min_samples_split=5)"
      ]
     },
     "execution_count": 48,
     "metadata": {},
     "output_type": "execute_result"
    }
   ],
   "source": [
    "classifier = RandomForestClassifier(n_estimators=100,max_depth=5,class_weight='balanced',min_samples_split=5,max_features='sqrt')\n",
    "classifier.fit(X_train, y_train)"
   ]
  },
  {
   "cell_type": "code",
   "execution_count": 49,
   "metadata": {},
   "outputs": [
    {
     "data": {
      "text/plain": [
       "0.9130434782608695"
      ]
     },
     "execution_count": 49,
     "metadata": {},
     "output_type": "execute_result"
    }
   ],
   "source": [
    "#determining the accuracy score of the model\n",
    "from sklearn.metrics import accuracy_score\n",
    "y_test_pred=classifier.predict(X_test)\n",
    "accuracy=accuracy_score(y_test_pred,y_test)\n",
    "accuracy"
   ]
  },
  {
   "cell_type": "markdown",
   "metadata": {},
   "source": [
    "Support Vector Classifier Model"
   ]
  },
  {
   "cell_type": "code",
   "execution_count": 35,
   "metadata": {},
   "outputs": [],
   "source": [
    "from sklearn.svm import SVC"
   ]
  },
  {
   "cell_type": "code",
   "execution_count": 36,
   "metadata": {},
   "outputs": [
    {
     "data": {
      "text/plain": [
       "{'mean_fit_time': array([ 0.12140551,  3.10373435,  0.07903047,  0.12586005,  3.01598659,\n",
       "         0.14813747,  0.22539105,  2.99217246,  0.0483104 ,  0.0781239 ,\n",
       "        25.01623144,  0.04830348,  0.08182755, 23.41124096,  0.14796538,\n",
       "         0.32121401, 21.97619042,  0.1421155 ,  0.16983202, 38.63963592,\n",
       "         0.04990802,  0.08469286, 42.40850513,  0.13532138,  0.34152462,\n",
       "        39.42391522,  0.13836472]),\n",
       " 'std_fit_time': array([5.16311660e-02, 1.12690312e+00, 4.57602854e-02, 7.60311325e-02,\n",
       "        8.37763171e-01, 3.56474047e-02, 9.61047799e-02, 8.22724385e-01,\n",
       "        3.58318274e-03, 2.83820333e-02, 7.66688453e+00, 4.08161536e-05,\n",
       "        5.70405798e-03, 1.21342975e+01, 3.79259755e-02, 5.17385534e-02,\n",
       "        1.18205495e+01, 3.45466327e-02, 3.31615121e-02, 1.77409381e+01,\n",
       "        3.24096885e-03, 3.89658597e-03, 1.56161760e+01, 3.29415320e-02,\n",
       "        3.15851391e-02, 1.27964381e+01, 2.94130772e-02]),\n",
       " 'mean_score_time': array([0.08958936, 0.02921617, 0.01854808, 0.04483447, 0.02909725,\n",
       "        0.02416551, 0.05589597, 0.01370063, 0.00884907, 0.03872726,\n",
       "        0.01999409, 0.00948222, 0.0225656 , 0.01286082, 0.02830946,\n",
       "        0.06769114, 0.009828  , 0.01405318, 0.03378725, 0.00511436,\n",
       "        0.00804663, 0.02009194, 0.02169232, 0.02895789, 0.06657398,\n",
       "        0.0064429 , 0.03056655]),\n",
       " 'std_score_time': array([3.95527896e-02, 3.18587469e-02, 2.36115574e-02, 3.18695405e-02,\n",
       "        3.57789523e-02, 3.03125453e-02, 3.66923556e-02, 2.25123784e-02,\n",
       "        2.45050747e-03, 3.11112306e-02, 2.84236200e-02, 2.87959413e-03,\n",
       "        3.20559348e-03, 2.54507764e-02, 2.92789836e-02, 3.42584783e-02,\n",
       "        2.13088244e-02, 1.94618885e-02, 2.89626369e-02, 3.72834179e-03,\n",
       "        6.19049605e-05, 3.86992743e-03, 2.97774756e-02, 3.03605449e-02,\n",
       "        3.54168686e-02, 3.22199056e-03, 3.11878281e-02]),\n",
       " 'param_C': masked_array(data=[0.1, 0.1, 0.1, 0.1, 0.1, 0.1, 0.1, 0.1, 0.1, 1, 1, 1,\n",
       "                    1, 1, 1, 1, 1, 1, 2, 2, 2, 2, 2, 2, 2, 2, 2],\n",
       "              mask=[False, False, False, False, False, False, False, False,\n",
       "                    False, False, False, False, False, False, False, False,\n",
       "                    False, False, False, False, False, False, False, False,\n",
       "                    False, False, False],\n",
       "        fill_value='?',\n",
       "             dtype=object),\n",
       " 'param_gamma': masked_array(data=[0.001, 0.001, 0.001, 0.01, 0.01, 0.01, 0.1, 0.1, 0.1,\n",
       "                    0.001, 0.001, 0.001, 0.01, 0.01, 0.01, 0.1, 0.1, 0.1,\n",
       "                    0.001, 0.001, 0.001, 0.01, 0.01, 0.01, 0.1, 0.1, 0.1],\n",
       "              mask=[False, False, False, False, False, False, False, False,\n",
       "                    False, False, False, False, False, False, False, False,\n",
       "                    False, False, False, False, False, False, False, False,\n",
       "                    False, False, False],\n",
       "        fill_value='?',\n",
       "             dtype=object),\n",
       " 'param_kernel': masked_array(data=['rbf', 'linear', 'sigmoid', 'rbf', 'linear', 'sigmoid',\n",
       "                    'rbf', 'linear', 'sigmoid', 'rbf', 'linear', 'sigmoid',\n",
       "                    'rbf', 'linear', 'sigmoid', 'rbf', 'linear', 'sigmoid',\n",
       "                    'rbf', 'linear', 'sigmoid', 'rbf', 'linear', 'sigmoid',\n",
       "                    'rbf', 'linear', 'sigmoid'],\n",
       "              mask=[False, False, False, False, False, False, False, False,\n",
       "                    False, False, False, False, False, False, False, False,\n",
       "                    False, False, False, False, False, False, False, False,\n",
       "                    False, False, False],\n",
       "        fill_value='?',\n",
       "             dtype=object),\n",
       " 'params': [{'C': 0.1, 'gamma': 0.001, 'kernel': 'rbf'},\n",
       "  {'C': 0.1, 'gamma': 0.001, 'kernel': 'linear'},\n",
       "  {'C': 0.1, 'gamma': 0.001, 'kernel': 'sigmoid'},\n",
       "  {'C': 0.1, 'gamma': 0.01, 'kernel': 'rbf'},\n",
       "  {'C': 0.1, 'gamma': 0.01, 'kernel': 'linear'},\n",
       "  {'C': 0.1, 'gamma': 0.01, 'kernel': 'sigmoid'},\n",
       "  {'C': 0.1, 'gamma': 0.1, 'kernel': 'rbf'},\n",
       "  {'C': 0.1, 'gamma': 0.1, 'kernel': 'linear'},\n",
       "  {'C': 0.1, 'gamma': 0.1, 'kernel': 'sigmoid'},\n",
       "  {'C': 1, 'gamma': 0.001, 'kernel': 'rbf'},\n",
       "  {'C': 1, 'gamma': 0.001, 'kernel': 'linear'},\n",
       "  {'C': 1, 'gamma': 0.001, 'kernel': 'sigmoid'},\n",
       "  {'C': 1, 'gamma': 0.01, 'kernel': 'rbf'},\n",
       "  {'C': 1, 'gamma': 0.01, 'kernel': 'linear'},\n",
       "  {'C': 1, 'gamma': 0.01, 'kernel': 'sigmoid'},\n",
       "  {'C': 1, 'gamma': 0.1, 'kernel': 'rbf'},\n",
       "  {'C': 1, 'gamma': 0.1, 'kernel': 'linear'},\n",
       "  {'C': 1, 'gamma': 0.1, 'kernel': 'sigmoid'},\n",
       "  {'C': 2, 'gamma': 0.001, 'kernel': 'rbf'},\n",
       "  {'C': 2, 'gamma': 0.001, 'kernel': 'linear'},\n",
       "  {'C': 2, 'gamma': 0.001, 'kernel': 'sigmoid'},\n",
       "  {'C': 2, 'gamma': 0.01, 'kernel': 'rbf'},\n",
       "  {'C': 2, 'gamma': 0.01, 'kernel': 'linear'},\n",
       "  {'C': 2, 'gamma': 0.01, 'kernel': 'sigmoid'},\n",
       "  {'C': 2, 'gamma': 0.1, 'kernel': 'rbf'},\n",
       "  {'C': 2, 'gamma': 0.1, 'kernel': 'linear'},\n",
       "  {'C': 2, 'gamma': 0.1, 'kernel': 'sigmoid'}],\n",
       " 'split0_test_score': array([0.76923077, 0.85897436, 0.56410256, 0.56410256, 0.85897436,\n",
       "        0.56410256, 0.56410256, 0.85897436, 0.56410256, 0.75641026,\n",
       "        0.85897436, 0.56410256, 0.69230769, 0.85897436, 0.56410256,\n",
       "        0.53846154, 0.85897436, 0.56410256, 0.73076923, 0.85897436,\n",
       "        0.56410256, 0.66666667, 0.85897436, 0.56410256, 0.53846154,\n",
       "        0.85897436, 0.56410256]),\n",
       " 'split1_test_score': array([0.74358974, 0.83333333, 0.56410256, 0.56410256, 0.83333333,\n",
       "        0.56410256, 0.56410256, 0.83333333, 0.56410256, 0.75641026,\n",
       "        0.83333333, 0.56410256, 0.61538462, 0.83333333, 0.56410256,\n",
       "        0.56410256, 0.83333333, 0.56410256, 0.74358974, 0.84615385,\n",
       "        0.56410256, 0.62820513, 0.84615385, 0.56410256, 0.56410256,\n",
       "        0.84615385, 0.56410256]),\n",
       " 'split2_test_score': array([0.6025641 , 0.78205128, 0.55128205, 0.55128205, 0.78205128,\n",
       "        0.55128205, 0.55128205, 0.78205128, 0.55128205, 0.61538462,\n",
       "        0.80769231, 0.55128205, 0.53846154, 0.80769231, 0.55128205,\n",
       "        0.55128205, 0.80769231, 0.55128205, 0.64102564, 0.80769231,\n",
       "        0.55128205, 0.6025641 , 0.80769231, 0.55128205, 0.58974359,\n",
       "        0.80769231, 0.55128205]),\n",
       " 'split3_test_score': array([0.70512821, 0.91025641, 0.55128205, 0.55128205, 0.91025641,\n",
       "        0.55128205, 0.55128205, 0.91025641, 0.55128205, 0.73076923,\n",
       "        0.92307692, 0.55128205, 0.67948718, 0.92307692, 0.55128205,\n",
       "        0.55128205, 0.92307692, 0.55128205, 0.71794872, 0.92307692,\n",
       "        0.55128205, 0.65384615, 0.92307692, 0.55128205, 0.53846154,\n",
       "        0.92307692, 0.55128205]),\n",
       " 'split4_test_score': array([0.71794872, 0.85897436, 0.55128205, 0.55128205, 0.85897436,\n",
       "        0.55128205, 0.55128205, 0.85897436, 0.55128205, 0.75641026,\n",
       "        0.84615385, 0.55128205, 0.6025641 , 0.84615385, 0.55128205,\n",
       "        0.56410256, 0.84615385, 0.55128205, 0.74358974, 0.84615385,\n",
       "        0.55128205, 0.6025641 , 0.84615385, 0.55128205, 0.58974359,\n",
       "        0.84615385, 0.55128205]),\n",
       " 'split5_test_score': array([0.64102564, 0.80769231, 0.55128205, 0.55128205, 0.80769231,\n",
       "        0.55128205, 0.55128205, 0.80769231, 0.55128205, 0.66666667,\n",
       "        0.80769231, 0.55128205, 0.61538462, 0.80769231, 0.55128205,\n",
       "        0.56410256, 0.80769231, 0.55128205, 0.66666667, 0.80769231,\n",
       "        0.55128205, 0.61538462, 0.80769231, 0.55128205, 0.56410256,\n",
       "        0.80769231, 0.55128205]),\n",
       " 'split6_test_score': array([0.70512821, 0.83333333, 0.55128205, 0.55128205, 0.83333333,\n",
       "        0.55128205, 0.55128205, 0.83333333, 0.55128205, 0.66666667,\n",
       "        0.84615385, 0.55128205, 0.56410256, 0.84615385, 0.55128205,\n",
       "        0.53846154, 0.84615385, 0.55128205, 0.66666667, 0.84615385,\n",
       "        0.55128205, 0.55128205, 0.84615385, 0.55128205, 0.58974359,\n",
       "        0.84615385, 0.55128205]),\n",
       " 'split7_test_score': array([0.70512821, 0.79487179, 0.55128205, 0.55128205, 0.79487179,\n",
       "        0.55128205, 0.55128205, 0.79487179, 0.55128205, 0.67948718,\n",
       "        0.80769231, 0.55128205, 0.6025641 , 0.80769231, 0.55128205,\n",
       "        0.56410256, 0.80769231, 0.55128205, 0.69230769, 0.79487179,\n",
       "        0.55128205, 0.6025641 , 0.79487179, 0.55128205, 0.58974359,\n",
       "        0.79487179, 0.55128205]),\n",
       " 'split8_test_score': array([0.71794872, 0.82051282, 0.55128205, 0.55128205, 0.82051282,\n",
       "        0.55128205, 0.55128205, 0.82051282, 0.55128205, 0.76923077,\n",
       "        0.83333333, 0.55128205, 0.73076923, 0.83333333, 0.55128205,\n",
       "        0.57692308, 0.83333333, 0.55128205, 0.75641026, 0.83333333,\n",
       "        0.55128205, 0.70512821, 0.83333333, 0.55128205, 0.56410256,\n",
       "        0.83333333, 0.55128205]),\n",
       " 'split9_test_score': array([0.66666667, 0.92307692, 0.55128205, 0.55128205, 0.92307692,\n",
       "        0.55128205, 0.55128205, 0.92307692, 0.55128205, 0.71794872,\n",
       "        0.91025641, 0.55128205, 0.65384615, 0.91025641, 0.55128205,\n",
       "        0.56410256, 0.91025641, 0.55128205, 0.74358974, 0.91025641,\n",
       "        0.55128205, 0.67948718, 0.91025641, 0.55128205, 0.55128205,\n",
       "        0.91025641, 0.55128205]),\n",
       " 'mean_test_score': array([0.6974359 , 0.84230769, 0.55384615, 0.55384615, 0.84230769,\n",
       "        0.55384615, 0.55384615, 0.84230769, 0.55384615, 0.71153846,\n",
       "        0.8474359 , 0.55384615, 0.62948718, 0.8474359 , 0.55384615,\n",
       "        0.55769231, 0.8474359 , 0.55384615, 0.71025641, 0.8474359 ,\n",
       "        0.55384615, 0.63076923, 0.8474359 , 0.55384615, 0.56794872,\n",
       "        0.8474359 , 0.55384615]),\n",
       " 'std_test_score': array([0.04629608, 0.04405856, 0.00512821, 0.00512821, 0.04405856,\n",
       "        0.00512821, 0.00512821, 0.04405856, 0.00512821, 0.04907092,\n",
       "        0.03865337, 0.00512821, 0.05630818, 0.03865337, 0.00512821,\n",
       "        0.01181993, 0.03865337, 0.00512821, 0.03854691, 0.03990867,\n",
       "        0.00512821, 0.04321102, 0.03990867, 0.00512821, 0.01990279,\n",
       "        0.03990867, 0.00512821]),\n",
       " 'rank_test_score': array([12,  7, 17, 17,  7, 17, 17,  7, 17, 10,  1, 17, 14,  1, 17, 16,  1,\n",
       "        17, 11,  1, 17, 13,  1, 17, 15,  1, 17])}"
      ]
     },
     "execution_count": 36,
     "metadata": {},
     "output_type": "execute_result"
    }
   ],
   "source": [
    "#Hyperparameter Tuning for Support Vector Machine\n",
    "from sklearn.model_selection import GridSearchCV\n",
    "parameters=[{'C':[0.1,1,2],'kernel':['rbf','linear','sigmoid'],\n",
    "    'gamma':[0.001,0.01,0.1]}]\n",
    "\n",
    "classifier=SVC()\n",
    "clf=GridSearchCV(classifier,param_grid=parameters,cv=10,n_jobs=-1,scoring='accuracy')\n",
    "clf.fit(X_train,y_train)\n",
    "clf.cv_results_"
   ]
  },
  {
   "cell_type": "code",
   "execution_count": 37,
   "metadata": {},
   "outputs": [
    {
     "data": {
      "text/plain": [
       "0.8474358974358974"
      ]
     },
     "execution_count": 37,
     "metadata": {},
     "output_type": "execute_result"
    }
   ],
   "source": [
    "clf.best_score_"
   ]
  },
  {
   "cell_type": "code",
   "execution_count": 38,
   "metadata": {},
   "outputs": [
    {
     "data": {
      "text/plain": [
       "{'C': 1, 'gamma': 0.001, 'kernel': 'linear'}"
      ]
     },
     "execution_count": 38,
     "metadata": {},
     "output_type": "execute_result"
    }
   ],
   "source": [
    "#finding the best parameters for support vector machine\n",
    "clf.best_params_"
   ]
  },
  {
   "cell_type": "code",
   "execution_count": 39,
   "metadata": {},
   "outputs": [
    {
     "data": {
      "text/html": [
       "<style>#sk-container-id-3 {color: black;}#sk-container-id-3 pre{padding: 0;}#sk-container-id-3 div.sk-toggleable {background-color: white;}#sk-container-id-3 label.sk-toggleable__label {cursor: pointer;display: block;width: 100%;margin-bottom: 0;padding: 0.3em;box-sizing: border-box;text-align: center;}#sk-container-id-3 label.sk-toggleable__label-arrow:before {content: \"▸\";float: left;margin-right: 0.25em;color: #696969;}#sk-container-id-3 label.sk-toggleable__label-arrow:hover:before {color: black;}#sk-container-id-3 div.sk-estimator:hover label.sk-toggleable__label-arrow:before {color: black;}#sk-container-id-3 div.sk-toggleable__content {max-height: 0;max-width: 0;overflow: hidden;text-align: left;background-color: #f0f8ff;}#sk-container-id-3 div.sk-toggleable__content pre {margin: 0.2em;color: black;border-radius: 0.25em;background-color: #f0f8ff;}#sk-container-id-3 input.sk-toggleable__control:checked~div.sk-toggleable__content {max-height: 200px;max-width: 100%;overflow: auto;}#sk-container-id-3 input.sk-toggleable__control:checked~label.sk-toggleable__label-arrow:before {content: \"▾\";}#sk-container-id-3 div.sk-estimator input.sk-toggleable__control:checked~label.sk-toggleable__label {background-color: #d4ebff;}#sk-container-id-3 div.sk-label input.sk-toggleable__control:checked~label.sk-toggleable__label {background-color: #d4ebff;}#sk-container-id-3 input.sk-hidden--visually {border: 0;clip: rect(1px 1px 1px 1px);clip: rect(1px, 1px, 1px, 1px);height: 1px;margin: -1px;overflow: hidden;padding: 0;position: absolute;width: 1px;}#sk-container-id-3 div.sk-estimator {font-family: monospace;background-color: #f0f8ff;border: 1px dotted black;border-radius: 0.25em;box-sizing: border-box;margin-bottom: 0.5em;}#sk-container-id-3 div.sk-estimator:hover {background-color: #d4ebff;}#sk-container-id-3 div.sk-parallel-item::after {content: \"\";width: 100%;border-bottom: 1px solid gray;flex-grow: 1;}#sk-container-id-3 div.sk-label:hover label.sk-toggleable__label {background-color: #d4ebff;}#sk-container-id-3 div.sk-serial::before {content: \"\";position: absolute;border-left: 1px solid gray;box-sizing: border-box;top: 0;bottom: 0;left: 50%;z-index: 0;}#sk-container-id-3 div.sk-serial {display: flex;flex-direction: column;align-items: center;background-color: white;padding-right: 0.2em;padding-left: 0.2em;position: relative;}#sk-container-id-3 div.sk-item {position: relative;z-index: 1;}#sk-container-id-3 div.sk-parallel {display: flex;align-items: stretch;justify-content: center;background-color: white;position: relative;}#sk-container-id-3 div.sk-item::before, #sk-container-id-3 div.sk-parallel-item::before {content: \"\";position: absolute;border-left: 1px solid gray;box-sizing: border-box;top: 0;bottom: 0;left: 50%;z-index: -1;}#sk-container-id-3 div.sk-parallel-item {display: flex;flex-direction: column;z-index: 1;position: relative;background-color: white;}#sk-container-id-3 div.sk-parallel-item:first-child::after {align-self: flex-end;width: 50%;}#sk-container-id-3 div.sk-parallel-item:last-child::after {align-self: flex-start;width: 50%;}#sk-container-id-3 div.sk-parallel-item:only-child::after {width: 0;}#sk-container-id-3 div.sk-dashed-wrapped {border: 1px dashed gray;margin: 0 0.4em 0.5em 0.4em;box-sizing: border-box;padding-bottom: 0.4em;background-color: white;}#sk-container-id-3 div.sk-label label {font-family: monospace;font-weight: bold;display: inline-block;line-height: 1.2em;}#sk-container-id-3 div.sk-label-container {text-align: center;}#sk-container-id-3 div.sk-container {/* jupyter's `normalize.less` sets `[hidden] { display: none; }` but bootstrap.min.css set `[hidden] { display: none !important; }` so we also need the `!important` here to be able to override the default hidden behavior on the sphinx rendered scikit-learn.org. See: https://github.com/scikit-learn/scikit-learn/issues/21755 */display: inline-block !important;position: relative;}#sk-container-id-3 div.sk-text-repr-fallback {display: none;}</style><div id=\"sk-container-id-3\" class=\"sk-top-container\"><div class=\"sk-text-repr-fallback\"><pre>SVC(C=1, gamma=0.001, kernel=&#x27;linear&#x27;)</pre><b>In a Jupyter environment, please rerun this cell to show the HTML representation or trust the notebook. <br />On GitHub, the HTML representation is unable to render, please try loading this page with nbviewer.org.</b></div><div class=\"sk-container\" hidden><div class=\"sk-item\"><div class=\"sk-estimator sk-toggleable\"><input class=\"sk-toggleable__control sk-hidden--visually\" id=\"sk-estimator-id-3\" type=\"checkbox\" checked><label for=\"sk-estimator-id-3\" class=\"sk-toggleable__label sk-toggleable__label-arrow\">SVC</label><div class=\"sk-toggleable__content\"><pre>SVC(C=1, gamma=0.001, kernel=&#x27;linear&#x27;)</pre></div></div></div></div></div>"
      ],
      "text/plain": [
       "SVC(C=1, gamma=0.001, kernel='linear')"
      ]
     },
     "execution_count": 39,
     "metadata": {},
     "output_type": "execute_result"
    }
   ],
   "source": [
    "svm_classifier = SVC(C=1,gamma=0.001,kernel='linear')\n",
    "svm_classifier.fit(X_train, y_train)"
   ]
  },
  {
   "cell_type": "code",
   "execution_count": 40,
   "metadata": {},
   "outputs": [
    {
     "data": {
      "text/plain": [
       "0.9202898550724637"
      ]
     },
     "execution_count": 40,
     "metadata": {},
     "output_type": "execute_result"
    }
   ],
   "source": [
    "#determining the accuracy score of the model\n",
    "from sklearn.metrics import accuracy_score\n",
    "y_test_pred=svm_classifier.predict(X_test)\n",
    "accuracy=accuracy_score(y_test_pred,y_test)\n",
    "accuracy"
   ]
  },
  {
   "cell_type": "markdown",
   "metadata": {},
   "source": [
    "Accuracy Score on Support Vector Classifier Model"
   ]
  },
  {
   "cell_type": "code",
   "execution_count": 41,
   "metadata": {},
   "outputs": [
    {
     "name": "stdout",
     "output_type": "stream",
     "text": [
      "Training Accuracy:  85.51282051282051 %\n"
     ]
    }
   ],
   "source": [
    "#thus our best model is support vector machine which has the highest accuracy\n",
    "y_train_prediction=svm_classifier.predict(X_train)\n",
    "y_train_accuracy=accuracy_score(y_train_prediction,y_train)\n",
    "print(\"Training Accuracy: \",y_train_accuracy*100,\"%\")"
   ]
  },
  {
   "cell_type": "code",
   "execution_count": 42,
   "metadata": {},
   "outputs": [
    {
     "name": "stdout",
     "output_type": "stream",
     "text": [
      "Test Accuracy:  92.02898550724638 %\n"
     ]
    }
   ],
   "source": [
    "y_test_prediction=svm_classifier.predict(X_test)\n",
    "y_test_accuracy=accuracy_score(y_test_prediction,y_test)\n",
    "print(\"Test Accuracy: \",y_test_accuracy*100,\"%\")"
   ]
  }
 ],
 "metadata": {
  "kernelspec": {
   "display_name": "Python 3",
   "language": "python",
   "name": "python3"
  },
  "language_info": {
   "codemirror_mode": {
    "name": "ipython",
    "version": 3
   },
   "file_extension": ".py",
   "mimetype": "text/x-python",
   "name": "python",
   "nbconvert_exporter": "python",
   "pygments_lexer": "ipython3",
   "version": "3.11.5"
  }
 },
 "nbformat": 4,
 "nbformat_minor": 2
}
